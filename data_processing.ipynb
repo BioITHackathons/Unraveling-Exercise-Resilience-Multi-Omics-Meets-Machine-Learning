{
 "cells": [
  {
   "metadata": {},
   "cell_type": "code",
   "outputs": [],
   "execution_count": null,
   "source": "# ! CURL_CA_BUNDLE=/ca-certificates.crt pip install polars scikit-learn",
   "id": "8a7a7be05d923bb"
  },
  {
   "metadata": {},
   "cell_type": "code",
   "outputs": [],
   "execution_count": null,
   "source": [
    "from itertools import product\n",
    "import polars as pl\n",
    "import pandas as pd"
   ],
   "id": "3877dadfe68c4764"
  },
  {
   "metadata": {},
   "cell_type": "code",
   "outputs": [],
   "execution_count": null,
   "source": [
    "tissues = [\"BAT\", \"BLOOD\", \"LIVER\", \"HEART\", \"WAT-SC\", \"SKM-GN\", \"HYPOTH\"]\n",
    "assays = [\"ATAC\", \"TRNSCRPT\", \"METHYL\"]\n",
    "\n",
    "products = list(product(tissues, assays))"
   ],
   "id": "5211a2f8524d63e1"
  },
  {
   "metadata": {},
   "cell_type": "code",
   "outputs": [],
   "execution_count": null,
   "source": [
    "genomic_data = (\n",
    "    pl.read_csv(\"data/TRAINING_REGULATED_NORM_DATA.csv\", null_values=[\"NA\"])\n",
    "    .filter(pl.col(\"assay\").is_in(assays))\n",
    "    .drop(\"dataset\")\n",
    ")\n",
    "feature_to_gene = pl.read_csv(\"data/FEATURE_TO_GENE.csv\", null_values=[\"NA\"])"
   ],
   "id": "e7fa662f113e048b"
  },
  {
   "metadata": {},
   "cell_type": "code",
   "outputs": [],
   "execution_count": null,
   "source": [
    "data: pl.DataFrame = genomic_data.join(\n",
    "    feature_to_gene.select(pl.col(\"feature_ID\", \"ensembl_gene\")),\n",
    "    on=\"feature_ID\",\n",
    "    how=\"left\",\n",
    ").drop(pl.selectors.by_index(0))"
   ],
   "id": "699899d9a8abc25c"
  },
  {
   "metadata": {},
   "cell_type": "code",
   "outputs": [],
   "execution_count": null,
   "source": [
    "grouped_data = (\n",
    "    data.drop(\"tissue\", \"assay\", \"feature_ID\")\n",
    "    .group_by(\"feature\", \"ensembl_gene\")\n",
    "    .mean()\n",
    "    .sort(\"ensembl_gene\")\n",
    "    .drop(\"ensembl_gene\")\n",
    ")\n",
    "\n",
    "grouped_data.write_parquet(\"data/grouped_data.parquet\")"
   ],
   "id": "ebca6c0edbdc8ffd"
  },
  {
   "metadata": {},
   "cell_type": "code",
   "outputs": [],
   "execution_count": null,
   "source": "grouped_data = pl.read_parquet(\"data/grouped_data.parquet\")",
   "id": "e0dae2a3931132ce"
  },
  {
   "metadata": {},
   "cell_type": "code",
   "outputs": [],
   "execution_count": null,
   "source": [
    "# Reading phenotype data\n",
    "pheno = pd.read_csv(\n",
    "    \"data/motrpac_pass1b-06_pheno_viallabel_data_merged_v4.0.txt\", sep=\"\\t\"\n",
    ")"
   ],
   "id": "b1c0dd5f13d10e59"
  },
  {
   "metadata": {},
   "cell_type": "code",
   "outputs": [],
   "execution_count": null,
   "source": [
    "# Sub-setting phenotype data to include necessary columns\n",
    "phenoSubset = pheno[\n",
    "    [\n",
    "        \"pid\",\n",
    "        \"viallabel\",\n",
    "        \"sex\",\n",
    "        \"vo2.max.test.vo2_max_2\",\n",
    "        \"registration.weight\",\n",
    "        \"terminal.weight.bw\",\n",
    "        \"group\",\n",
    "    ]\n",
    "]\n",
    "phenoSubset[\"mass_lost\"] = (\n",
    "        phenoSubset[\"registration.weight\"] - phenoSubset[\"terminal.weight.bw\"]\n",
    ")\n",
    "\n",
    "phenoSubset[\"norm_mass_lost\"] = (\n",
    "        phenoSubset[\"mass_lost\"] / phenoSubset[\"registration.weight\"]\n",
    ")\n",
    "\n",
    "phenoSubset[\"norm_mass_lost\"] = (\n",
    "        phenoSubset[\"mass_lost\"] / phenoSubset[\"registration.weight\"]\n",
    ")"
   ],
   "id": "99325f691cac044e"
  },
  {
   "metadata": {},
   "cell_type": "code",
   "outputs": [],
   "execution_count": null,
   "source": [
    "pheno_subset = (\n",
    "    pl.read_csv(\"data/phenoSubset.csv\", schema_overrides={\"pid\": pl.String})\n",
    "    .drop(pl.selectors.by_index(0), \"viallabel\")\n",
    "    .rename({\"vo2.max.test.vo2_max_2\": \"vo2max\"})\n",
    "    .unique()\n",
    ")"
   ],
   "id": "1e6158ef856b1a1f"
  },
  {
   "metadata": {},
   "cell_type": "code",
   "outputs": [],
   "execution_count": null,
   "source": [
    "feature_engineered_data = grouped_data.select(pl.exclude(\"feature\")).transpose(\n",
    "    include_header=True,\n",
    "    header_name=\"pid\",\n",
    "    column_names=grouped_data.get_column(\"feature\"),\n",
    ")"
   ],
   "id": "d32f5849c9166d9b"
  },
  {
   "metadata": {},
   "cell_type": "code",
   "outputs": [],
   "execution_count": null,
   "source": "pheno_subset",
   "id": "68d48893f754fd34"
  },
  {
   "metadata": {
    "ExecuteTime": {
     "end_time": "2025-04-02T17:42:39.434368Z",
     "start_time": "2025-04-02T17:42:39.362340Z"
    }
   },
   "cell_type": "code",
   "source": [
    "vo2max_dataset = feature_engineered_data.join(\n",
    "    pheno_subset.select(pl.col(\"pid\"), pl.col(\"vo2max\"), pl.col(\"group\"), pl.col(\"sex\")), on=\"pid\"\n",
    ")\n",
    "vo2max_dataset.write_csv(\"data/vo2max_dataset.csv\")"
   ],
   "id": "b06f2d38c733db50",
   "outputs": [],
   "execution_count": 147
  },
  {
   "metadata": {
    "ExecuteTime": {
     "end_time": "2025-04-02T17:42:40.827527Z",
     "start_time": "2025-04-02T17:42:40.763048Z"
    }
   },
   "cell_type": "code",
   "source": [
    "weight_dataset = feature_engineered_data.join(\n",
    "    pheno_subset.select(pl.col(\"pid\"), pl.col(\"norm_mass_lost\"), pl.col(\"group\"), pl.col(\"sex\")), on=\"pid\"\n",
    ")\n",
    "weight_dataset.write_csv(\"data/weight_dataset.csv\")"
   ],
   "id": "549d020958c8e4b8",
   "outputs": [],
   "execution_count": 148
  },
  {
   "metadata": {},
   "cell_type": "code",
   "outputs": [],
   "execution_count": null,
   "source": "",
   "id": "1750fb9ba160b403"
  }
 ],
 "metadata": {
  "kernelspec": {
   "display_name": "Python 3 (ipykernel)",
   "language": "python",
   "name": "python3"
  },
  "language_info": {
   "codemirror_mode": {
    "name": "ipython",
    "version": 3
   },
   "file_extension": ".py",
   "mimetype": "text/x-python",
   "name": "python",
   "nbconvert_exporter": "python",
   "pygments_lexer": "ipython3",
   "version": "3.11.6"
  }
 },
 "nbformat": 4,
 "nbformat_minor": 5
}
