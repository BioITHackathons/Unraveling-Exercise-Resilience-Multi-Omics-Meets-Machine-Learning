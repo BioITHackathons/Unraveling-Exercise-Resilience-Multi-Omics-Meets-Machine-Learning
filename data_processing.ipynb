{
 "cells": [
  {
   "metadata": {
    "ExecuteTime": {
     "end_time": "2025-04-02T15:08:47.985579Z",
     "start_time": "2025-04-02T15:08:38.942592Z"
    }
   },
   "cell_type": "code",
   "source": [
    "from itertools import product\n",
    "import polars as pl\n",
    "import pandas as pd"
   ],
   "id": "2b906bf225e99174",
   "outputs": [],
   "execution_count": 70
  },
  {
   "metadata": {},
   "cell_type": "code",
   "outputs": [],
   "execution_count": null,
   "source": [
    "tissues = [\"BAT\", \"BLOOD\", \"LIVER\", \"HEART\", \"WAT-SC\", \"SKM-GN\", \"HYPOTH\"]\n",
    "assays = [\"ATAC\", \"TRNSCRPT\", \"METHYL\"]\n",
    "\n",
    "products = list(product(tissues, assays))"
   ],
   "id": "b05f7e633ec5bb52"
  },
  {
   "metadata": {},
   "cell_type": "code",
   "outputs": [],
   "execution_count": null,
   "source": [
    "genomic_data = pl.read_csv(\"data/TRAINING_REGULATED_NORM_DATA.csv\", null_values=[\"NA\"]).filter(\n",
    "    pl.col(\"assay\").is_in(assays)\n",
    ").drop(\"dataset\")\n",
    "feature_to_gene = pl.read_csv(\"data/FEATURE_TO_GENE.csv\", null_values=[\"NA\"])"
   ],
   "id": "c3bc3e4ba452e7e0"
  },
  {
   "metadata": {},
   "cell_type": "code",
   "outputs": [],
   "execution_count": null,
   "source": [
    "data: pl.DataFrame = genomic_data.join(\n",
    "    feature_to_gene.select(pl.col(\"feature_ID\", \"ensembl_gene\")),\n",
    "    on=\"feature_ID\",\n",
    "    how=\"left\",\n",
    ").drop(pl.selectors.by_index(0))"
   ],
   "id": "32e59c8e64a28fa6"
  },
  {
   "metadata": {},
   "cell_type": "code",
   "outputs": [],
   "execution_count": null,
   "source": "final_data = data.drop(\"tissue\", \"assay\", \"feature_ID\").group_by(\"feature\", \"ensembl_gene\").mean().sort(\"ensembl_gene\").drop(\"ensembl_gene\")",
   "id": "7a8c20fb85004ce9"
  },
  {
   "metadata": {
    "ExecuteTime": {
     "end_time": "2025-04-02T15:09:09.531258Z",
     "start_time": "2025-04-02T15:09:09.310819Z"
    }
   },
   "cell_type": "code",
   "source": [
    "# Reading phenotype data\n",
    "pheno = pd.read_csv(\"phenotype.csv\")\n",
    "\n",
    "# Subsetting phenotype data to include necessary columns\n",
    "phenoSubset = pheno[[\"pid\",\n",
    "                     \"viallabel\",\n",
    "                     \"sex\",\n",
    "                     \"vo2.max.test.vo2_max_2\",\n",
    "                     \"registration.weight\",\n",
    "                     \"terminal.weight.bw\",\n",
    "                     \"group\"]]\n",
    "\n",
    "phenoSubset[\"mass_lost\"] = phenoSubset[\"registration.weight\"] - phenoSubset[\"terminal.weight.bw\"]\n",
    "\n",
    "phenoSubset[\"norm_mass_lost\"] = phenoSubset[\"mass_lost\"] / phenoSubset[\"registration.weight\"]\n",
    "\n",
    "phenoSubset[\"norm_mass_lost\"] = phenoSubset[\"mass_lost\"] / phenoSubset[\"registration.weight\"]"
   ],
   "id": "773fca92c99bf486",
   "outputs": [
    {
     "name": "stderr",
     "output_type": "stream",
     "text": [
      "/var/folders/9n/hn4ksfv50tj5y5b19_rj3wz40000gn/T/ipykernel_11156/3151364854.py:2: DtypeWarning: Columns (37,40,41,42,44,50,66,81,82,104,112,120,128,137,147,156,165,174,183,184,186,193,194,196,201,202,204,209,210,212,217,218,220,226,227,229,236,237,239,244,245,247,252,253,255,260,261,263,269,270,272,279,280,282,287,288,290,295,296,298,303,304,306,312,313,315,322,323,325,330,331,333,338,339,341,346,347,349,355,356,358,365,366,368,373,374,376,381,382,384,389,390,392,398,399,401,403,404,406,411,412,414,419,420,422,428,429,431,437,455,456,459,460,461,463,465,471,473,492) have mixed types. Specify dtype option on import or set low_memory=False.\n",
      "  pheno = pd.read_csv(\"phenotype.csv\")\n"
     ]
    },
    {
     "ename": "KeyError",
     "evalue": "'mass_lost'",
     "output_type": "error",
     "traceback": [
      "\u001B[31m---------------------------------------------------------------------------\u001B[39m",
      "\u001B[31mKeyError\u001B[39m                                  Traceback (most recent call last)",
      "\u001B[36mFile \u001B[39m\u001B[32m~/Code/Unraveling-Exercise-Resilience-Multi-Omics-Meets-Machine-Learning/.venv/lib/python3.12/site-packages/pandas/core/indexes/base.py:3805\u001B[39m, in \u001B[36mIndex.get_loc\u001B[39m\u001B[34m(self, key)\u001B[39m\n\u001B[32m   3804\u001B[39m \u001B[38;5;28;01mtry\u001B[39;00m:\n\u001B[32m-> \u001B[39m\u001B[32m3805\u001B[39m     \u001B[38;5;28;01mreturn\u001B[39;00m \u001B[38;5;28;43mself\u001B[39;49m\u001B[43m.\u001B[49m\u001B[43m_engine\u001B[49m\u001B[43m.\u001B[49m\u001B[43mget_loc\u001B[49m\u001B[43m(\u001B[49m\u001B[43mcasted_key\u001B[49m\u001B[43m)\u001B[49m\n\u001B[32m   3806\u001B[39m \u001B[38;5;28;01mexcept\u001B[39;00m \u001B[38;5;167;01mKeyError\u001B[39;00m \u001B[38;5;28;01mas\u001B[39;00m err:\n",
      "\u001B[36mFile \u001B[39m\u001B[32mindex.pyx:167\u001B[39m, in \u001B[36mpandas._libs.index.IndexEngine.get_loc\u001B[39m\u001B[34m()\u001B[39m\n",
      "\u001B[36mFile \u001B[39m\u001B[32mindex.pyx:196\u001B[39m, in \u001B[36mpandas._libs.index.IndexEngine.get_loc\u001B[39m\u001B[34m()\u001B[39m\n",
      "\u001B[36mFile \u001B[39m\u001B[32mpandas/_libs/hashtable_class_helper.pxi:7081\u001B[39m, in \u001B[36mpandas._libs.hashtable.PyObjectHashTable.get_item\u001B[39m\u001B[34m()\u001B[39m\n",
      "\u001B[36mFile \u001B[39m\u001B[32mpandas/_libs/hashtable_class_helper.pxi:7089\u001B[39m, in \u001B[36mpandas._libs.hashtable.PyObjectHashTable.get_item\u001B[39m\u001B[34m()\u001B[39m\n",
      "\u001B[31mKeyError\u001B[39m: 'mass_lost'",
      "\nThe above exception was the direct cause of the following exception:\n",
      "\u001B[31mKeyError\u001B[39m                                  Traceback (most recent call last)",
      "\u001B[36mCell\u001B[39m\u001B[36m \u001B[39m\u001B[32mIn[72]\u001B[39m\u001B[32m, line 13\u001B[39m\n\u001B[32m      4\u001B[39m \u001B[38;5;66;03m# Subsetting phenotype data to include necessary columns\u001B[39;00m\n\u001B[32m      5\u001B[39m phenoSubset = pheno[[\u001B[33m\"\u001B[39m\u001B[33mpid\u001B[39m\u001B[33m\"\u001B[39m,\n\u001B[32m      6\u001B[39m                      \u001B[33m\"\u001B[39m\u001B[33mviallabel\u001B[39m\u001B[33m\"\u001B[39m,\n\u001B[32m      7\u001B[39m                      \u001B[33m\"\u001B[39m\u001B[33msex\u001B[39m\u001B[33m\"\u001B[39m,\n\u001B[32m   (...)\u001B[39m\u001B[32m     10\u001B[39m                      \u001B[33m\"\u001B[39m\u001B[33mterminal.weight.bw\u001B[39m\u001B[33m\"\u001B[39m,\n\u001B[32m     11\u001B[39m                      \u001B[33m\"\u001B[39m\u001B[33mgroup\u001B[39m\u001B[33m\"\u001B[39m]]\n\u001B[32m---> \u001B[39m\u001B[32m13\u001B[39m phenoSubset[\u001B[33m\"\u001B[39m\u001B[33mnorm_mass_lost\u001B[39m\u001B[33m\"\u001B[39m] = \u001B[43mphenoSubset\u001B[49m\u001B[43m[\u001B[49m\u001B[33;43m\"\u001B[39;49m\u001B[33;43mmass_lost\u001B[39;49m\u001B[33;43m\"\u001B[39;49m\u001B[43m]\u001B[49m / phenoSubset[\u001B[33m\"\u001B[39m\u001B[33mregistration.weight\u001B[39m\u001B[33m\"\u001B[39m]\n",
      "\u001B[36mFile \u001B[39m\u001B[32m~/Code/Unraveling-Exercise-Resilience-Multi-Omics-Meets-Machine-Learning/.venv/lib/python3.12/site-packages/pandas/core/frame.py:4102\u001B[39m, in \u001B[36mDataFrame.__getitem__\u001B[39m\u001B[34m(self, key)\u001B[39m\n\u001B[32m   4100\u001B[39m \u001B[38;5;28;01mif\u001B[39;00m \u001B[38;5;28mself\u001B[39m.columns.nlevels > \u001B[32m1\u001B[39m:\n\u001B[32m   4101\u001B[39m     \u001B[38;5;28;01mreturn\u001B[39;00m \u001B[38;5;28mself\u001B[39m._getitem_multilevel(key)\n\u001B[32m-> \u001B[39m\u001B[32m4102\u001B[39m indexer = \u001B[38;5;28;43mself\u001B[39;49m\u001B[43m.\u001B[49m\u001B[43mcolumns\u001B[49m\u001B[43m.\u001B[49m\u001B[43mget_loc\u001B[49m\u001B[43m(\u001B[49m\u001B[43mkey\u001B[49m\u001B[43m)\u001B[49m\n\u001B[32m   4103\u001B[39m \u001B[38;5;28;01mif\u001B[39;00m is_integer(indexer):\n\u001B[32m   4104\u001B[39m     indexer = [indexer]\n",
      "\u001B[36mFile \u001B[39m\u001B[32m~/Code/Unraveling-Exercise-Resilience-Multi-Omics-Meets-Machine-Learning/.venv/lib/python3.12/site-packages/pandas/core/indexes/base.py:3812\u001B[39m, in \u001B[36mIndex.get_loc\u001B[39m\u001B[34m(self, key)\u001B[39m\n\u001B[32m   3807\u001B[39m     \u001B[38;5;28;01mif\u001B[39;00m \u001B[38;5;28misinstance\u001B[39m(casted_key, \u001B[38;5;28mslice\u001B[39m) \u001B[38;5;129;01mor\u001B[39;00m (\n\u001B[32m   3808\u001B[39m         \u001B[38;5;28misinstance\u001B[39m(casted_key, abc.Iterable)\n\u001B[32m   3809\u001B[39m         \u001B[38;5;129;01mand\u001B[39;00m \u001B[38;5;28many\u001B[39m(\u001B[38;5;28misinstance\u001B[39m(x, \u001B[38;5;28mslice\u001B[39m) \u001B[38;5;28;01mfor\u001B[39;00m x \u001B[38;5;129;01min\u001B[39;00m casted_key)\n\u001B[32m   3810\u001B[39m     ):\n\u001B[32m   3811\u001B[39m         \u001B[38;5;28;01mraise\u001B[39;00m InvalidIndexError(key)\n\u001B[32m-> \u001B[39m\u001B[32m3812\u001B[39m     \u001B[38;5;28;01mraise\u001B[39;00m \u001B[38;5;167;01mKeyError\u001B[39;00m(key) \u001B[38;5;28;01mfrom\u001B[39;00m\u001B[38;5;250m \u001B[39m\u001B[34;01merr\u001B[39;00m\n\u001B[32m   3813\u001B[39m \u001B[38;5;28;01mexcept\u001B[39;00m \u001B[38;5;167;01mTypeError\u001B[39;00m:\n\u001B[32m   3814\u001B[39m     \u001B[38;5;66;03m# If we have a listlike key, _check_indexing_error will raise\u001B[39;00m\n\u001B[32m   3815\u001B[39m     \u001B[38;5;66;03m#  InvalidIndexError. Otherwise we fall through and re-raise\u001B[39;00m\n\u001B[32m   3816\u001B[39m     \u001B[38;5;66;03m#  the TypeError.\u001B[39;00m\n\u001B[32m   3817\u001B[39m     \u001B[38;5;28mself\u001B[39m._check_indexing_error(key)\n",
      "\u001B[31mKeyError\u001B[39m: 'mass_lost'"
     ]
    }
   ],
   "execution_count": 72
  },
  {
   "metadata": {},
   "cell_type": "code",
   "outputs": [],
   "execution_count": null,
   "source": "phenoSubset.head()",
   "id": "b6ea7c0c1b2870a2"
  },
  {
   "metadata": {},
   "cell_type": "code",
   "outputs": [],
   "execution_count": null,
   "source": "phenoSubset.to_csv(\"phenoSubset.csv\")",
   "id": "c1967265d30059bb"
  }
 ],
 "metadata": {
  "kernelspec": {
   "display_name": "Python 3 (ipykernel)",
   "language": "python",
   "name": "python3"
  },
  "language_info": {
   "codemirror_mode": {
    "name": "ipython",
    "version": 3
   },
   "file_extension": ".py",
   "mimetype": "text/x-python",
   "name": "python",
   "nbconvert_exporter": "python",
   "pygments_lexer": "ipython3",
   "version": "3.11.0"
  }
 },
 "nbformat": 4,
 "nbformat_minor": 5
}
