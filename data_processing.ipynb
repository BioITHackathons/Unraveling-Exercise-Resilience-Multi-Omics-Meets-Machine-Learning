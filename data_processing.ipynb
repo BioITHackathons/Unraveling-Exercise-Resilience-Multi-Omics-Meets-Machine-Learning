{
 "cells": [
  {
   "cell_type": "code",
   "execution_count": 1,
   "id": "9c35881f",
   "metadata": {
    "ExecuteTime": {
     "end_time": "2025-04-02T08:33:27.231431Z",
     "start_time": "2025-04-02T08:33:27.160537Z"
    }
   },
   "outputs": [],
   "source": [
    "import os\n",
    "from itertools import product\n",
    "import polars as pl"
   ]
  },
  {
   "cell_type": "code",
   "id": "31ef3461d3855716",
   "metadata": {
    "ExecuteTime": {
     "end_time": "2025-04-02T08:39:15.228766Z",
     "start_time": "2025-04-02T08:39:15.226718Z"
    }
   },
   "source": [
    "tissues = [\"BAT\", \"BLOOD\", \"LIVER\", \"HEART\", \"WAT-SC\", \"SKM-GN\", \"HYPOTH\"]\n",
    "assays = [\"ATAC\", \"TRNSCRPT\", \"METHYL\"]\n",
    "\n",
    "products = list(product(tissues, assays))"
   ],
   "outputs": [],
   "execution_count": 10
  },
  {
   "cell_type": "code",
   "id": "dd4d1696a954af05",
   "metadata": {
    "ExecuteTime": {
     "end_time": "2025-04-02T08:39:17.703888Z",
     "start_time": "2025-04-02T08:39:15.779880Z"
    }
   },
   "source": [
    "annotations = {\n",
    "    \"ATAC\": pl.read_csv(\n",
    "        \"data/ATAC_feature_annotation.csv\", schema_overrides={\"chrom\": pl.String}\n",
    "    ).select(pl.col(\"feature_ID\", \"ensembl_gene\")),\n",
    "    \"TRNSCRPT\": pl.read_csv(\"data/TRNSCRPT_feature_annotation.csv\").select(\n",
    "        pl.col(\"feature_ID\", \"gene_id\")\n",
    "    ),\n",
    "    \"METHYL\": pl.read_csv(\n",
    "        \"data/METHYL_feature_annotation.csv\", schema_overrides={\"EntrezID\": pl.String}\n",
    "    ).select(pl.col(\"feature_ID\", \"EntrezID\")),\n",
    "}"
   ],
   "outputs": [],
   "execution_count": 11
  },
  {
   "cell_type": "code",
   "id": "5b414a3782c6c66e",
   "metadata": {
    "ExecuteTime": {
     "end_time": "2025-04-02T13:43:46.946077Z",
     "start_time": "2025-04-02T13:43:46.779654Z"
    }
   },
   "source": [
    "genomic_data = pl.read_csv(\"data/TRAINING_REGULATED_NORM_DATA.csv\").filter(pl.col(\"assay\").is_in(assays))\n",
    "feature_to_gene = pl.read_csv(\"data/FEATURE_TO_GENE.csv\", null_values=[\"NA\"])"
   ],
   "outputs": [],
   "execution_count": 30
  },
  {
   "cell_type": "code",
   "id": "31a21c99317e30c9",
   "metadata": {
    "ExecuteTime": {
     "end_time": "2025-04-02T13:47:23.409137Z",
     "start_time": "2025-04-02T13:47:23.319613Z"
    }
   },
   "source": "genomic_data.join(feature_to_gene, on=\"feature_ID\", how=\"left\").over(pl.col9e)",
   "outputs": [
    {
     "data": {
      "text/plain": [
       "shape: (25_413, 86)\n",
       "┌───────┬─────────────┬─────────────┬────────┬───┬─────────────┬────────────┬────────────┬─────────┐\n",
       "│       ┆ feature     ┆ feature_ID  ┆ tissue ┆ … ┆ ensembl_gen ┆ relationsh ┆ custom_ann ┆ kegg_id │\n",
       "│ ---   ┆ ---         ┆ ---         ┆ ---    ┆   ┆ e           ┆ ip_to_gene ┆ otation    ┆ ---     │\n",
       "│ i64   ┆ str         ┆ str         ┆ str    ┆   ┆ ---         ┆ ---        ┆ ---        ┆ str     │\n",
       "│       ┆             ┆             ┆        ┆   ┆ str         ┆ str        ┆ str        ┆         │\n",
       "╞═══════╪═════════════╪═════════════╪════════╪═══╪═════════════╪════════════╪════════════╪═════════╡\n",
       "│ 2463  ┆ ATAC;BAT;ch ┆ chr1:536446 ┆ BAT    ┆ … ┆ ENSRNOG0000 ┆ 54770      ┆ Distal     ┆ null    │\n",
       "│       ┆ r1:53644614 ┆ 14-53645984 ┆        ┆   ┆ 0047027     ┆            ┆ Intergenic ┆         │\n",
       "│       ┆ -5364598…   ┆             ┆        ┆   ┆             ┆            ┆            ┆         │\n",
       "│ 2464  ┆ ATAC;BAT;ch ┆ chr1:552204 ┆ BAT    ┆ … ┆ ENSRNOG0000 ┆ 0          ┆ Promoter   ┆ null    │\n",
       "│       ┆ r1:55220468 ┆ 68-55221264 ┆        ┆   ┆ 0030145     ┆            ┆ (<=1kb)    ┆         │\n",
       "│       ┆ -5522126…   ┆             ┆        ┆   ┆             ┆            ┆            ┆         │\n",
       "│ 2465  ┆ ATAC;BAT;ch ┆ chr1:552237 ┆ BAT    ┆ … ┆ ENSRNOG0000 ┆ 2127       ┆ Downstream ┆ null    │\n",
       "│       ┆ r1:55223736 ┆ 36-55224518 ┆        ┆   ┆ 0030145     ┆            ┆ (<5kb)     ┆         │\n",
       "│       ┆ -5522451…   ┆             ┆        ┆   ┆             ┆            ┆            ┆         │\n",
       "│ 2466  ┆ ATAC;BAT;ch ┆ chr1:556593 ┆ BAT    ┆ … ┆ ENSRNOG0000 ┆ 35401      ┆ Distal     ┆ null    │\n",
       "│       ┆ r1:55659361 ┆ 61-55659841 ┆        ┆   ┆ 0057320     ┆            ┆ Intergenic ┆         │\n",
       "│       ┆ -5565984…   ┆             ┆        ┆   ┆             ┆            ┆            ┆         │\n",
       "│ 2467  ┆ ATAC;BAT;ch ┆ chr1:556895 ┆ BAT    ┆ … ┆ ENSRNOG0000 ┆ -16938     ┆ Distal     ┆ null    │\n",
       "│       ┆ r1:55689571 ┆ 71-55690460 ┆        ┆   ┆ 0054834     ┆            ┆ Intergenic ┆         │\n",
       "│       ┆ -5569046…   ┆             ┆        ┆   ┆             ┆            ┆            ┆         │\n",
       "│ …     ┆ …           ┆ …           ┆ …      ┆ … ┆ …           ┆ …          ┆ …          ┆ …       │\n",
       "│ 35684 ┆ TRNSCRPT;WA ┆ ENSRNOG0000 ┆ WAT-SC ┆ … ┆ ENSRNOG0000 ┆ null       ┆ null       ┆ null    │\n",
       "│       ┆ T-SC;ENSRNO ┆ 0061895     ┆        ┆   ┆ 0061895     ┆            ┆            ┆         │\n",
       "│       ┆ G0000006…   ┆             ┆        ┆   ┆             ┆            ┆            ┆         │\n",
       "│ 35684 ┆ TRNSCRPT;WA ┆ ENSRNOG0000 ┆ WAT-SC ┆ … ┆ ENSRNOG0000 ┆ null       ┆ null       ┆ null    │\n",
       "│       ┆ T-SC;ENSRNO ┆ 0061895     ┆        ┆   ┆ 0061895     ┆            ┆            ┆         │\n",
       "│       ┆ G0000006…   ┆             ┆        ┆   ┆             ┆            ┆            ┆         │\n",
       "│ 35685 ┆ TRNSCRPT;WA ┆ ENSRNOG0000 ┆ WAT-SC ┆ … ┆ ENSRNOG0000 ┆ null       ┆ null       ┆ null    │\n",
       "│       ┆ T-SC;ENSRNO ┆ 0061968     ┆        ┆   ┆ 0061968     ┆            ┆            ┆         │\n",
       "│       ┆ G0000006…   ┆             ┆        ┆   ┆             ┆            ┆            ┆         │\n",
       "│ 35686 ┆ TRNSCRPT;WA ┆ ENSRNOG0000 ┆ WAT-SC ┆ … ┆ ENSRNOG0000 ┆ null       ┆ null       ┆ null    │\n",
       "│       ┆ T-SC;ENSRNO ┆ 0062247     ┆        ┆   ┆ 0062247     ┆            ┆            ┆         │\n",
       "│       ┆ G0000006…   ┆             ┆        ┆   ┆             ┆            ┆            ┆         │\n",
       "│ 35687 ┆ TRNSCRPT;WA ┆ ENSRNOG0000 ┆ WAT-SC ┆ … ┆ ENSRNOG0000 ┆ null       ┆ null       ┆ null    │\n",
       "│       ┆ T-SC;ENSRNO ┆ 0062276     ┆        ┆   ┆ 0062276     ┆            ┆            ┆         │\n",
       "│       ┆ G0000006…   ┆             ┆        ┆   ┆             ┆            ┆            ┆         │\n",
       "└───────┴─────────────┴─────────────┴────────┴───┴─────────────┴────────────┴────────────┴─────────┘"
      ],
      "text/html": [
       "<div><style>\n",
       ".dataframe > thead > tr,\n",
       ".dataframe > tbody > tr {\n",
       "  text-align: right;\n",
       "  white-space: pre-wrap;\n",
       "}\n",
       "</style>\n",
       "<small>shape: (25_413, 86)</small><table border=\"1\" class=\"dataframe\"><thead><tr><th></th><th>feature</th><th>feature_ID</th><th>tissue</th><th>assay</th><th>10027327</th><th>10043527</th><th>10502300</th><th>10411690</th><th>10185585</th><th>10046461</th><th>10024735</th><th>10871349</th><th>10700102</th><th>10561072</th><th>10337199</th><th>10023259</th><th>10046380</th><th>10025707</th><th>10734945</th><th>10641858</th><th>10045228</th><th>10953744</th><th>10106383</th><th>10971645</th><th>10025626</th><th>10044922</th><th>10027599</th><th>10950486</th><th>10486003</th><th>10306471</th><th>10044841</th><th>10026193</th><th>10901434</th><th>10026355</th><th>10729518</th><th>10095241</th><th>&hellip;</th><th>10044256</th><th>10672656</th><th>10043950</th><th>10026517</th><th>10314733</th><th>10204989</th><th>10045309</th><th>10422463</th><th>10833331</th><th>10761160</th><th>10025979</th><th>10026789</th><th>10139044</th><th>10417702</th><th>10424911</th><th>dataset</th><th>10027408</th><th>10046542</th><th>10025464</th><th>10026274</th><th>10043799</th><th>10046704</th><th>10059369</th><th>10152148</th><th>10315624</th><th>10027912</th><th>10677887</th><th>10619259</th><th>_right</th><th>entrez_gene</th><th>rgd_gene</th><th>gene_symbol</th><th>old_gene_symbol</th><th>ensembl_gene</th><th>relationship_to_gene</th><th>custom_annotation</th><th>kegg_id</th></tr><tr><td>i64</td><td>str</td><td>str</td><td>str</td><td>str</td><td>str</td><td>str</td><td>str</td><td>str</td><td>str</td><td>str</td><td>str</td><td>str</td><td>str</td><td>str</td><td>str</td><td>str</td><td>str</td><td>str</td><td>str</td><td>str</td><td>str</td><td>str</td><td>str</td><td>str</td><td>str</td><td>str</td><td>str</td><td>str</td><td>str</td><td>str</td><td>str</td><td>str</td><td>str</td><td>str</td><td>str</td><td>str</td><td>&hellip;</td><td>str</td><td>str</td><td>str</td><td>str</td><td>str</td><td>str</td><td>str</td><td>str</td><td>str</td><td>str</td><td>str</td><td>str</td><td>str</td><td>str</td><td>str</td><td>str</td><td>str</td><td>str</td><td>str</td><td>str</td><td>str</td><td>str</td><td>str</td><td>str</td><td>str</td><td>str</td><td>str</td><td>str</td><td>i64</td><td>i64</td><td>i64</td><td>str</td><td>str</td><td>str</td><td>str</td><td>str</td><td>str</td></tr></thead><tbody><tr><td>2463</td><td>&quot;ATAC;BAT;chr1:53644614-5364598…</td><td>&quot;chr1:53644614-53645984&quot;</td><td>&quot;BAT&quot;</td><td>&quot;ATAC&quot;</td><td>&quot;5.89&quot;</td><td>&quot;5.85&quot;</td><td>&quot;5.86&quot;</td><td>&quot;5.91&quot;</td><td>&quot;5.93&quot;</td><td>&quot;5.86&quot;</td><td>&quot;5.56&quot;</td><td>&quot;5.89&quot;</td><td>&quot;5.71&quot;</td><td>&quot;5.79&quot;</td><td>&quot;6.05&quot;</td><td>&quot;5.63&quot;</td><td>&quot;5.2&quot;</td><td>&quot;5.31&quot;</td><td>&quot;5.55&quot;</td><td>&quot;5.83&quot;</td><td>&quot;5.94&quot;</td><td>&quot;5.07&quot;</td><td>&quot;5.48&quot;</td><td>&quot;5.9&quot;</td><td>&quot;5.87&quot;</td><td>&quot;NA&quot;</td><td>&quot;5.77&quot;</td><td>&quot;5.93&quot;</td><td>&quot;5.78&quot;</td><td>&quot;5.78&quot;</td><td>&quot;NA&quot;</td><td>&quot;5.67&quot;</td><td>&quot;5.08&quot;</td><td>&quot;5.82&quot;</td><td>&quot;5.87&quot;</td><td>&quot;5.63&quot;</td><td>&hellip;</td><td>&quot;5.91&quot;</td><td>&quot;5.73&quot;</td><td>&quot;5.7&quot;</td><td>&quot;NA&quot;</td><td>&quot;NA&quot;</td><td>&quot;NA&quot;</td><td>&quot;5.26&quot;</td><td>&quot;5.74&quot;</td><td>&quot;5.87&quot;</td><td>&quot;5.9&quot;</td><td>&quot;5.85&quot;</td><td>&quot;5.84&quot;</td><td>&quot;5.87&quot;</td><td>&quot;5.9&quot;</td><td>&quot;5.78&quot;</td><td>&quot;NA&quot;</td><td>&quot;NA&quot;</td><td>&quot;NA&quot;</td><td>&quot;NA&quot;</td><td>&quot;NA&quot;</td><td>&quot;NA&quot;</td><td>&quot;NA&quot;</td><td>&quot;NA&quot;</td><td>&quot;NA&quot;</td><td>&quot;NA&quot;</td><td>&quot;NA&quot;</td><td>&quot;NA&quot;</td><td>&quot;NA&quot;</td><td>2874562</td><td>685007</td><td>1583290</td><td>&quot;Unc93a&quot;</td><td>&quot;LOC685007&quot;</td><td>&quot;ENSRNOG00000047027&quot;</td><td>&quot;54770&quot;</td><td>&quot;Distal Intergenic&quot;</td><td>null</td></tr><tr><td>2464</td><td>&quot;ATAC;BAT;chr1:55220468-5522126…</td><td>&quot;chr1:55220468-55221264&quot;</td><td>&quot;BAT&quot;</td><td>&quot;ATAC&quot;</td><td>&quot;6.32&quot;</td><td>&quot;6.25&quot;</td><td>&quot;6.43&quot;</td><td>&quot;6.2&quot;</td><td>&quot;6.2&quot;</td><td>&quot;6.25&quot;</td><td>&quot;6.1&quot;</td><td>&quot;6.37&quot;</td><td>&quot;6.37&quot;</td><td>&quot;6.43&quot;</td><td>&quot;6.32&quot;</td><td>&quot;6.08&quot;</td><td>&quot;5.58&quot;</td><td>&quot;6.08&quot;</td><td>&quot;6.17&quot;</td><td>&quot;6.43&quot;</td><td>&quot;6.27&quot;</td><td>&quot;6.04&quot;</td><td>&quot;6.12&quot;</td><td>&quot;6.25&quot;</td><td>&quot;6.37&quot;</td><td>&quot;NA&quot;</td><td>&quot;6.43&quot;</td><td>&quot;6.27&quot;</td><td>&quot;6.43&quot;</td><td>&quot;6.05&quot;</td><td>&quot;NA&quot;</td><td>&quot;6.32&quot;</td><td>&quot;5.74&quot;</td><td>&quot;6.37&quot;</td><td>&quot;6.4&quot;</td><td>&quot;6.08&quot;</td><td>&hellip;</td><td>&quot;6.35&quot;</td><td>&quot;6.27&quot;</td><td>&quot;6.08&quot;</td><td>&quot;NA&quot;</td><td>&quot;NA&quot;</td><td>&quot;NA&quot;</td><td>&quot;5.77&quot;</td><td>&quot;6.25&quot;</td><td>&quot;6.37&quot;</td><td>&quot;6.43&quot;</td><td>&quot;6.37&quot;</td><td>&quot;6.17&quot;</td><td>&quot;6.43&quot;</td><td>&quot;6.43&quot;</td><td>&quot;6.43&quot;</td><td>&quot;NA&quot;</td><td>&quot;NA&quot;</td><td>&quot;NA&quot;</td><td>&quot;NA&quot;</td><td>&quot;NA&quot;</td><td>&quot;NA&quot;</td><td>&quot;NA&quot;</td><td>&quot;NA&quot;</td><td>&quot;NA&quot;</td><td>&quot;NA&quot;</td><td>&quot;NA&quot;</td><td>&quot;NA&quot;</td><td>&quot;NA&quot;</td><td>2442600</td><td>685793</td><td>1590175</td><td>&quot;LOC685793&quot;</td><td>&quot;LOC298461;LOC308209;LOC365118;…</td><td>&quot;ENSRNOG00000030145&quot;</td><td>&quot;0&quot;</td><td>&quot;Promoter (&lt;=1kb)&quot;</td><td>null</td></tr><tr><td>2465</td><td>&quot;ATAC;BAT;chr1:55223736-5522451…</td><td>&quot;chr1:55223736-55224518&quot;</td><td>&quot;BAT&quot;</td><td>&quot;ATAC&quot;</td><td>&quot;6.15&quot;</td><td>&quot;6.1&quot;</td><td>&quot;6.2&quot;</td><td>&quot;6.12&quot;</td><td>&quot;6.08&quot;</td><td>&quot;6.14&quot;</td><td>&quot;5.91&quot;</td><td>&quot;6.08&quot;</td><td>&quot;5.93&quot;</td><td>&quot;6.16&quot;</td><td>&quot;5.8&quot;</td><td>&quot;6.04&quot;</td><td>&quot;5.5&quot;</td><td>&quot;5.68&quot;</td><td>&quot;5.96&quot;</td><td>&quot;6.08&quot;</td><td>&quot;6.17&quot;</td><td>&quot;5.46&quot;</td><td>&quot;5.79&quot;</td><td>&quot;6.15&quot;</td><td>&quot;6.04&quot;</td><td>&quot;NA&quot;</td><td>&quot;6.04&quot;</td><td>&quot;6.1&quot;</td><td>&quot;6.01&quot;</td><td>&quot;6.16&quot;</td><td>&quot;NA&quot;</td><td>&quot;6.04&quot;</td><td>&quot;5.2&quot;</td><td>&quot;6.05&quot;</td><td>&quot;6.12&quot;</td><td>&quot;5.94&quot;</td><td>&hellip;</td><td>&quot;6.05&quot;</td><td>&quot;6.08&quot;</td><td>&quot;5.87&quot;</td><td>&quot;NA&quot;</td><td>&quot;NA&quot;</td><td>&quot;NA&quot;</td><td>&quot;5.38&quot;</td><td>&quot;6.05&quot;</td><td>&quot;6.17&quot;</td><td>&quot;6.17&quot;</td><td>&quot;6.12&quot;</td><td>&quot;6.2&quot;</td><td>&quot;6.17&quot;</td><td>&quot;6.15&quot;</td><td>&quot;6.1&quot;</td><td>&quot;NA&quot;</td><td>&quot;NA&quot;</td><td>&quot;NA&quot;</td><td>&quot;NA&quot;</td><td>&quot;NA&quot;</td><td>&quot;NA&quot;</td><td>&quot;NA&quot;</td><td>&quot;NA&quot;</td><td>&quot;NA&quot;</td><td>&quot;NA&quot;</td><td>&quot;NA&quot;</td><td>&quot;NA&quot;</td><td>&quot;NA&quot;</td><td>2442601</td><td>685793</td><td>1590175</td><td>&quot;LOC685793&quot;</td><td>&quot;LOC298461;LOC308209;LOC365118;…</td><td>&quot;ENSRNOG00000030145&quot;</td><td>&quot;2127&quot;</td><td>&quot;Downstream (&lt;5kb)&quot;</td><td>null</td></tr><tr><td>2466</td><td>&quot;ATAC;BAT;chr1:55659361-5565984…</td><td>&quot;chr1:55659361-55659841&quot;</td><td>&quot;BAT&quot;</td><td>&quot;ATAC&quot;</td><td>&quot;4.22&quot;</td><td>&quot;4.33&quot;</td><td>&quot;5.09&quot;</td><td>&quot;4.86&quot;</td><td>&quot;3.96&quot;</td><td>&quot;4.32&quot;</td><td>&quot;3.88&quot;</td><td>&quot;4.62&quot;</td><td>&quot;4.55&quot;</td><td>&quot;4.59&quot;</td><td>&quot;4.22&quot;</td><td>&quot;4.03&quot;</td><td>&quot;3.61&quot;</td><td>&quot;3.9&quot;</td><td>&quot;4.01&quot;</td><td>&quot;4.83&quot;</td><td>&quot;4.35&quot;</td><td>&quot;3.39&quot;</td><td>&quot;3.95&quot;</td><td>&quot;4.36&quot;</td><td>&quot;4.52&quot;</td><td>&quot;NA&quot;</td><td>&quot;5.05&quot;</td><td>&quot;4.5&quot;</td><td>&quot;4.55&quot;</td><td>&quot;4.54&quot;</td><td>&quot;NA&quot;</td><td>&quot;3.84&quot;</td><td>&quot;3.97&quot;</td><td>&quot;4.6&quot;</td><td>&quot;5.05&quot;</td><td>&quot;3.81&quot;</td><td>&hellip;</td><td>&quot;4.57&quot;</td><td>&quot;4.3&quot;</td><td>&quot;3.83&quot;</td><td>&quot;NA&quot;</td><td>&quot;NA&quot;</td><td>&quot;NA&quot;</td><td>&quot;3.73&quot;</td><td>&quot;4.33&quot;</td><td>&quot;4.13&quot;</td><td>&quot;4.72&quot;</td><td>&quot;4.43&quot;</td><td>&quot;4.18&quot;</td><td>&quot;4.69&quot;</td><td>&quot;4.56&quot;</td><td>&quot;4.6&quot;</td><td>&quot;NA&quot;</td><td>&quot;NA&quot;</td><td>&quot;NA&quot;</td><td>&quot;NA&quot;</td><td>&quot;NA&quot;</td><td>&quot;NA&quot;</td><td>&quot;NA&quot;</td><td>&quot;NA&quot;</td><td>&quot;NA&quot;</td><td>&quot;NA&quot;</td><td>&quot;NA&quot;</td><td>&quot;NA&quot;</td><td>&quot;NA&quot;</td><td>3611562</td><td>null</td><td>15010923</td><td>&quot;Y_RNA&quot;</td><td>null</td><td>&quot;ENSRNOG00000057320&quot;</td><td>&quot;35401&quot;</td><td>&quot;Distal Intergenic&quot;</td><td>null</td></tr><tr><td>2467</td><td>&quot;ATAC;BAT;chr1:55689571-5569046…</td><td>&quot;chr1:55689571-55690460&quot;</td><td>&quot;BAT&quot;</td><td>&quot;ATAC&quot;</td><td>&quot;5.12&quot;</td><td>&quot;4.61&quot;</td><td>&quot;5.29&quot;</td><td>&quot;5.08&quot;</td><td>&quot;4.48&quot;</td><td>&quot;4.72&quot;</td><td>&quot;4.54&quot;</td><td>&quot;5.04&quot;</td><td>&quot;4.78&quot;</td><td>&quot;4.95&quot;</td><td>&quot;4.61&quot;</td><td>&quot;4.17&quot;</td><td>&quot;3.58&quot;</td><td>&quot;4.4&quot;</td><td>&quot;4.31&quot;</td><td>&quot;5.02&quot;</td><td>&quot;4.82&quot;</td><td>&quot;4.12&quot;</td><td>&quot;4.29&quot;</td><td>&quot;4.82&quot;</td><td>&quot;4.95&quot;</td><td>&quot;NA&quot;</td><td>&quot;5.42&quot;</td><td>&quot;4.91&quot;</td><td>&quot;4.67&quot;</td><td>&quot;4.69&quot;</td><td>&quot;NA&quot;</td><td>&quot;4.55&quot;</td><td>&quot;4.68&quot;</td><td>&quot;4.82&quot;</td><td>&quot;5.15&quot;</td><td>&quot;4.33&quot;</td><td>&hellip;</td><td>&quot;5.2&quot;</td><td>&quot;4.65&quot;</td><td>&quot;4.45&quot;</td><td>&quot;NA&quot;</td><td>&quot;NA&quot;</td><td>&quot;NA&quot;</td><td>&quot;3.8&quot;</td><td>&quot;4.74&quot;</td><td>&quot;4.63&quot;</td><td>&quot;5.08&quot;</td><td>&quot;4.72&quot;</td><td>&quot;4.55&quot;</td><td>&quot;5.16&quot;</td><td>&quot;4.92&quot;</td><td>&quot;4.84&quot;</td><td>&quot;NA&quot;</td><td>&quot;NA&quot;</td><td>&quot;NA&quot;</td><td>&quot;NA&quot;</td><td>&quot;NA&quot;</td><td>&quot;NA&quot;</td><td>&quot;NA&quot;</td><td>&quot;NA&quot;</td><td>&quot;NA&quot;</td><td>&quot;NA&quot;</td><td>&quot;NA&quot;</td><td>&quot;NA&quot;</td><td>&quot;NA&quot;</td><td>3384100</td><td>null</td><td>15008986</td><td>&quot;AABR07001734.1&quot;</td><td>null</td><td>&quot;ENSRNOG00000054834&quot;</td><td>&quot;-16938&quot;</td><td>&quot;Distal Intergenic&quot;</td><td>null</td></tr><tr><td>&hellip;</td><td>&hellip;</td><td>&hellip;</td><td>&hellip;</td><td>&hellip;</td><td>&hellip;</td><td>&hellip;</td><td>&hellip;</td><td>&hellip;</td><td>&hellip;</td><td>&hellip;</td><td>&hellip;</td><td>&hellip;</td><td>&hellip;</td><td>&hellip;</td><td>&hellip;</td><td>&hellip;</td><td>&hellip;</td><td>&hellip;</td><td>&hellip;</td><td>&hellip;</td><td>&hellip;</td><td>&hellip;</td><td>&hellip;</td><td>&hellip;</td><td>&hellip;</td><td>&hellip;</td><td>&hellip;</td><td>&hellip;</td><td>&hellip;</td><td>&hellip;</td><td>&hellip;</td><td>&hellip;</td><td>&hellip;</td><td>&hellip;</td><td>&hellip;</td><td>&hellip;</td><td>&hellip;</td><td>&hellip;</td><td>&hellip;</td><td>&hellip;</td><td>&hellip;</td><td>&hellip;</td><td>&hellip;</td><td>&hellip;</td><td>&hellip;</td><td>&hellip;</td><td>&hellip;</td><td>&hellip;</td><td>&hellip;</td><td>&hellip;</td><td>&hellip;</td><td>&hellip;</td><td>&hellip;</td><td>&hellip;</td><td>&hellip;</td><td>&hellip;</td><td>&hellip;</td><td>&hellip;</td><td>&hellip;</td><td>&hellip;</td><td>&hellip;</td><td>&hellip;</td><td>&hellip;</td><td>&hellip;</td><td>&hellip;</td><td>&hellip;</td><td>&hellip;</td><td>&hellip;</td><td>&hellip;</td><td>&hellip;</td><td>&hellip;</td><td>&hellip;</td><td>&hellip;</td><td>&hellip;</td></tr><tr><td>35684</td><td>&quot;TRNSCRPT;WAT-SC;ENSRNOG0000006…</td><td>&quot;ENSRNOG00000061895&quot;</td><td>&quot;WAT-SC&quot;</td><td>&quot;TRNSCRPT&quot;</td><td>&quot;3.11659&quot;</td><td>&quot;4.79841&quot;</td><td>&quot;3.49145&quot;</td><td>&quot;4.40518&quot;</td><td>&quot;4.07199&quot;</td><td>&quot;4.00465&quot;</td><td>&quot;3.56078&quot;</td><td>&quot;4.35706&quot;</td><td>&quot;3.94988&quot;</td><td>&quot;4.67068&quot;</td><td>&quot;4.10676&quot;</td><td>&quot;3.48204&quot;</td><td>&quot;4.60838&quot;</td><td>&quot;3.71203&quot;</td><td>&quot;4.3302&quot;</td><td>&quot;3.56217&quot;</td><td>&quot;4.20682&quot;</td><td>&quot;4.65653&quot;</td><td>&quot;2.75879&quot;</td><td>&quot;4.18491&quot;</td><td>&quot;2.93115&quot;</td><td>&quot;NA&quot;</td><td>&quot;2.96101&quot;</td><td>&quot;4.57767&quot;</td><td>&quot;4.1105&quot;</td><td>&quot;5.1033&quot;</td><td>&quot;NA&quot;</td><td>&quot;3.21945&quot;</td><td>&quot;4.54507&quot;</td><td>&quot;3.35889&quot;</td><td>&quot;4.44061&quot;</td><td>&quot;3.83773&quot;</td><td>&hellip;</td><td>&quot;4.21163&quot;</td><td>&quot;3.61097&quot;</td><td>&quot;3.97733&quot;</td><td>&quot;NA&quot;</td><td>&quot;NA&quot;</td><td>&quot;NA&quot;</td><td>&quot;3.53577&quot;</td><td>&quot;3.85127&quot;</td><td>&quot;4.66458&quot;</td><td>&quot;4.24015&quot;</td><td>&quot;2.93663&quot;</td><td>&quot;3.07691&quot;</td><td>&quot;3.42203&quot;</td><td>&quot;3.67007&quot;</td><td>&quot;5.03592&quot;</td><td>&quot;NA&quot;</td><td>&quot;NA&quot;</td><td>&quot;NA&quot;</td><td>&quot;NA&quot;</td><td>&quot;NA&quot;</td><td>&quot;NA&quot;</td><td>&quot;NA&quot;</td><td>&quot;NA&quot;</td><td>&quot;NA&quot;</td><td>&quot;NA&quot;</td><td>&quot;NA&quot;</td><td>&quot;NA&quot;</td><td>&quot;NA&quot;</td><td>4024246</td><td>494206</td><td>1359487</td><td>&quot;Ly49si1&quot;</td><td>&quot;LOC100910480;LOC690104&quot;</td><td>&quot;ENSRNOG00000061895&quot;</td><td>null</td><td>null</td><td>null</td></tr><tr><td>35684</td><td>&quot;TRNSCRPT;WAT-SC;ENSRNOG0000006…</td><td>&quot;ENSRNOG00000061895&quot;</td><td>&quot;WAT-SC&quot;</td><td>&quot;TRNSCRPT&quot;</td><td>&quot;3.11659&quot;</td><td>&quot;4.79841&quot;</td><td>&quot;3.49145&quot;</td><td>&quot;4.40518&quot;</td><td>&quot;4.07199&quot;</td><td>&quot;4.00465&quot;</td><td>&quot;3.56078&quot;</td><td>&quot;4.35706&quot;</td><td>&quot;3.94988&quot;</td><td>&quot;4.67068&quot;</td><td>&quot;4.10676&quot;</td><td>&quot;3.48204&quot;</td><td>&quot;4.60838&quot;</td><td>&quot;3.71203&quot;</td><td>&quot;4.3302&quot;</td><td>&quot;3.56217&quot;</td><td>&quot;4.20682&quot;</td><td>&quot;4.65653&quot;</td><td>&quot;2.75879&quot;</td><td>&quot;4.18491&quot;</td><td>&quot;2.93115&quot;</td><td>&quot;NA&quot;</td><td>&quot;2.96101&quot;</td><td>&quot;4.57767&quot;</td><td>&quot;4.1105&quot;</td><td>&quot;5.1033&quot;</td><td>&quot;NA&quot;</td><td>&quot;3.21945&quot;</td><td>&quot;4.54507&quot;</td><td>&quot;3.35889&quot;</td><td>&quot;4.44061&quot;</td><td>&quot;3.83773&quot;</td><td>&hellip;</td><td>&quot;4.21163&quot;</td><td>&quot;3.61097&quot;</td><td>&quot;3.97733&quot;</td><td>&quot;NA&quot;</td><td>&quot;NA&quot;</td><td>&quot;NA&quot;</td><td>&quot;3.53577&quot;</td><td>&quot;3.85127&quot;</td><td>&quot;4.66458&quot;</td><td>&quot;4.24015&quot;</td><td>&quot;2.93663&quot;</td><td>&quot;3.07691&quot;</td><td>&quot;3.42203&quot;</td><td>&quot;3.67007&quot;</td><td>&quot;5.03592&quot;</td><td>&quot;NA&quot;</td><td>&quot;NA&quot;</td><td>&quot;NA&quot;</td><td>&quot;NA&quot;</td><td>&quot;NA&quot;</td><td>&quot;NA&quot;</td><td>&quot;NA&quot;</td><td>&quot;NA&quot;</td><td>&quot;NA&quot;</td><td>&quot;NA&quot;</td><td>&quot;NA&quot;</td><td>&quot;NA&quot;</td><td>&quot;NA&quot;</td><td>4024247</td><td>690045</td><td>1585167</td><td>&quot;LOC690045&quot;</td><td>&quot;Klra17&quot;</td><td>&quot;ENSRNOG00000061895&quot;</td><td>null</td><td>null</td><td>null</td></tr><tr><td>35685</td><td>&quot;TRNSCRPT;WAT-SC;ENSRNOG0000006…</td><td>&quot;ENSRNOG00000061968&quot;</td><td>&quot;WAT-SC&quot;</td><td>&quot;TRNSCRPT&quot;</td><td>&quot;3.42493&quot;</td><td>&quot;3.70532&quot;</td><td>&quot;3.6071&quot;</td><td>&quot;3.53456&quot;</td><td>&quot;3.62472&quot;</td><td>&quot;3.77318&quot;</td><td>&quot;3.03455&quot;</td><td>&quot;3.76081&quot;</td><td>&quot;3.54534&quot;</td><td>&quot;4.14118&quot;</td><td>&quot;3.65484&quot;</td><td>&quot;3.00469&quot;</td><td>&quot;4.28115&quot;</td><td>&quot;2.81771&quot;</td><td>&quot;4.10692&quot;</td><td>&quot;3.37092&quot;</td><td>&quot;3.83685&quot;</td><td>&quot;3.51719&quot;</td><td>&quot;2.79319&quot;</td><td>&quot;4.28275&quot;</td><td>&quot;2.50468&quot;</td><td>&quot;NA&quot;</td><td>&quot;2.50267&quot;</td><td>&quot;3.93002&quot;</td><td>&quot;3.51068&quot;</td><td>&quot;4.0782&quot;</td><td>&quot;NA&quot;</td><td>&quot;2.8828&quot;</td><td>&quot;3.93457&quot;</td><td>&quot;3.14299&quot;</td><td>&quot;3.61843&quot;</td><td>&quot;3.3353&quot;</td><td>&hellip;</td><td>&quot;3.82621&quot;</td><td>&quot;3.26708&quot;</td><td>&quot;4.31344&quot;</td><td>&quot;NA&quot;</td><td>&quot;NA&quot;</td><td>&quot;NA&quot;</td><td>&quot;3.73251&quot;</td><td>&quot;2.87672&quot;</td><td>&quot;3.55485&quot;</td><td>&quot;3.37644&quot;</td><td>&quot;2.9508&quot;</td><td>&quot;3.03277&quot;</td><td>&quot;3.42736&quot;</td><td>&quot;3.05269&quot;</td><td>&quot;1.40869&quot;</td><td>&quot;NA&quot;</td><td>&quot;NA&quot;</td><td>&quot;NA&quot;</td><td>&quot;NA&quot;</td><td>&quot;NA&quot;</td><td>&quot;NA&quot;</td><td>&quot;NA&quot;</td><td>&quot;NA&quot;</td><td>&quot;NA&quot;</td><td>&quot;NA&quot;</td><td>&quot;NA&quot;</td><td>&quot;NA&quot;</td><td>&quot;NA&quot;</td><td>4028366</td><td>null</td><td>15014489</td><td>&quot;AABR07064878.1&quot;</td><td>null</td><td>&quot;ENSRNOG00000061968&quot;</td><td>null</td><td>null</td><td>null</td></tr><tr><td>35686</td><td>&quot;TRNSCRPT;WAT-SC;ENSRNOG0000006…</td><td>&quot;ENSRNOG00000062247&quot;</td><td>&quot;WAT-SC&quot;</td><td>&quot;TRNSCRPT&quot;</td><td>&quot;4.58656&quot;</td><td>&quot;4.21724&quot;</td><td>&quot;5.00698&quot;</td><td>&quot;4.55606&quot;</td><td>&quot;4.97884&quot;</td><td>&quot;4.07251&quot;</td><td>&quot;4.45181&quot;</td><td>&quot;4.3702&quot;</td><td>&quot;4.54272&quot;</td><td>&quot;4.70685&quot;</td><td>&quot;4.23598&quot;</td><td>&quot;4.99971&quot;</td><td>&quot;4.0669&quot;</td><td>&quot;4.57427&quot;</td><td>&quot;4.80575&quot;</td><td>&quot;5.09347&quot;</td><td>&quot;4.4705&quot;</td><td>&quot;4.89894&quot;</td><td>&quot;4.91381&quot;</td><td>&quot;4.61605&quot;</td><td>&quot;4.38752&quot;</td><td>&quot;NA&quot;</td><td>&quot;5.28362&quot;</td><td>&quot;4.41816&quot;</td><td>&quot;5.15826&quot;</td><td>&quot;4.47237&quot;</td><td>&quot;NA&quot;</td><td>&quot;4.86261&quot;</td><td>&quot;4.22367&quot;</td><td>&quot;4.96945&quot;</td><td>&quot;4.47503&quot;</td><td>&quot;5.18387&quot;</td><td>&hellip;</td><td>&quot;4.2701&quot;</td><td>&quot;4.68788&quot;</td><td>&quot;4.33281&quot;</td><td>&quot;NA&quot;</td><td>&quot;NA&quot;</td><td>&quot;NA&quot;</td><td>&quot;4.22883&quot;</td><td>&quot;5.16891&quot;</td><td>&quot;4.32169&quot;</td><td>&quot;4.79912&quot;</td><td>&quot;4.66444&quot;</td><td>&quot;4.90259&quot;</td><td>&quot;4.66597&quot;</td><td>&quot;5.06389&quot;</td><td>&quot;5.02912&quot;</td><td>&quot;NA&quot;</td><td>&quot;NA&quot;</td><td>&quot;NA&quot;</td><td>&quot;NA&quot;</td><td>&quot;NA&quot;</td><td>&quot;NA&quot;</td><td>&quot;NA&quot;</td><td>&quot;NA&quot;</td><td>&quot;NA&quot;</td><td>&quot;NA&quot;</td><td>&quot;NA&quot;</td><td>&quot;NA&quot;</td><td>&quot;NA&quot;</td><td>4037448</td><td>null</td><td>15014728</td><td>&quot;AABR07031521.1&quot;</td><td>null</td><td>&quot;ENSRNOG00000062247&quot;</td><td>null</td><td>null</td><td>null</td></tr><tr><td>35687</td><td>&quot;TRNSCRPT;WAT-SC;ENSRNOG0000006…</td><td>&quot;ENSRNOG00000062276&quot;</td><td>&quot;WAT-SC&quot;</td><td>&quot;TRNSCRPT&quot;</td><td>&quot;3.57057&quot;</td><td>&quot;4.02&quot;</td><td>&quot;4.46024&quot;</td><td>&quot;4.66615&quot;</td><td>&quot;4.44691&quot;</td><td>&quot;4.73555&quot;</td><td>&quot;4.04895&quot;</td><td>&quot;4.44468&quot;</td><td>&quot;4.32616&quot;</td><td>&quot;4.90935&quot;</td><td>&quot;4.4602&quot;</td><td>&quot;3.95203&quot;</td><td>&quot;4.9074&quot;</td><td>&quot;3.4873&quot;</td><td>&quot;4.91858&quot;</td><td>&quot;4.14664&quot;</td><td>&quot;4.73766&quot;</td><td>&quot;4.9484&quot;</td><td>&quot;3.40672&quot;</td><td>&quot;4.73538&quot;</td><td>&quot;3.40695&quot;</td><td>&quot;NA&quot;</td><td>&quot;3.53873&quot;</td><td>&quot;4.90373&quot;</td><td>&quot;4.80083&quot;</td><td>&quot;4.63832&quot;</td><td>&quot;NA&quot;</td><td>&quot;3.38334&quot;</td><td>&quot;4.50002&quot;</td><td>&quot;3.76618&quot;</td><td>&quot;4.94695&quot;</td><td>&quot;4.19959&quot;</td><td>&hellip;</td><td>&quot;4.69231&quot;</td><td>&quot;4.22087&quot;</td><td>&quot;4.38113&quot;</td><td>&quot;NA&quot;</td><td>&quot;NA&quot;</td><td>&quot;NA&quot;</td><td>&quot;4.1664&quot;</td><td>&quot;4.28392&quot;</td><td>&quot;4.28627&quot;</td><td>&quot;4.88425&quot;</td><td>&quot;3.37681&quot;</td><td>&quot;4.12011&quot;</td><td>&quot;3.86787&quot;</td><td>&quot;4.13947&quot;</td><td>&quot;1.60213&quot;</td><td>&quot;NA&quot;</td><td>&quot;NA&quot;</td><td>&quot;NA&quot;</td><td>&quot;NA&quot;</td><td>&quot;NA&quot;</td><td>&quot;NA&quot;</td><td>&quot;NA&quot;</td><td>&quot;NA&quot;</td><td>&quot;NA&quot;</td><td>&quot;NA&quot;</td><td>&quot;NA&quot;</td><td>&quot;NA&quot;</td><td>&quot;NA&quot;</td><td>4038760</td><td>null</td><td>15014754</td><td>&quot;AABR07044631.2&quot;</td><td>null</td><td>&quot;ENSRNOG00000062276&quot;</td><td>null</td><td>null</td><td>null</td></tr></tbody></table></div>"
      ]
     },
     "execution_count": 34,
     "metadata": {},
     "output_type": "execute_result"
    }
   ],
   "execution_count": 34
  },
  {
   "cell_type": "code",
   "execution_count": null,
   "id": "50291167c92700e9",
   "metadata": {},
   "outputs": [],
   "source": []
  }
 ],
 "metadata": {
  "kernelspec": {
   "display_name": "Python 3 (ipykernel)",
   "language": "python",
   "name": "python3"
  },
  "language_info": {
   "codemirror_mode": {
    "name": "ipython",
    "version": 3
   },
   "file_extension": ".py",
   "mimetype": "text/x-python",
   "name": "python",
   "nbconvert_exporter": "python",
   "pygments_lexer": "ipython3",
   "version": "3.12.3"
  }
 },
 "nbformat": 4,
 "nbformat_minor": 5
}
