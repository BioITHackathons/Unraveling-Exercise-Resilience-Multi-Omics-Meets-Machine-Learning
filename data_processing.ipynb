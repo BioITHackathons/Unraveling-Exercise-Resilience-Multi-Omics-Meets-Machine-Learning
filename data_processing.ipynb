{
 "cells": [
  {
   "cell_type": "code",
   "execution_count": 52,
   "id": "9c35881f",
   "metadata": {
    "ExecuteTime": {
     "end_time": "2025-04-02T14:06:02.068860Z",
     "start_time": "2025-04-02T14:06:02.065813Z"
    }
   },
   "outputs": [],
   "source": [
    "from itertools import product\n",
    "import polars as pl"
   ]
  },
  {
   "cell_type": "code",
   "execution_count": 53,
   "id": "31ef3461d3855716",
   "metadata": {
    "ExecuteTime": {
     "end_time": "2025-04-02T14:06:02.574519Z",
     "start_time": "2025-04-02T14:06:02.572563Z"
    }
   },
   "outputs": [],
   "source": [
    "tissues = [\"BAT\", \"BLOOD\", \"LIVER\", \"HEART\", \"WAT-SC\", \"SKM-GN\", \"HYPOTH\"]\n",
    "assays = [\"ATAC\", \"TRNSCRPT\", \"METHYL\"]\n",
    "\n",
    "products = list(product(tissues, assays))"
   ]
  },
  {
   "cell_type": "code",
   "execution_count": 11,
   "id": "dd4d1696a954af05",
   "metadata": {
    "ExecuteTime": {
     "end_time": "2025-04-02T08:39:17.703888Z",
     "start_time": "2025-04-02T08:39:15.779880Z"
    }
   },
   "outputs": [],
   "source": [
    "annotations = {\n",
    "    \"ATAC\": pl.read_csv(\n",
    "        \"data/ATAC_feature_annotation.csv\", schema_overrides={\"chrom\": pl.String}\n",
    "    ).select(pl.col(\"feature_ID\", \"ensembl_gene\")),\n",
    "    \"TRNSCRPT\": pl.read_csv(\"data/TRNSCRPT_feature_annotation.csv\").select(\n",
    "        pl.col(\"feature_ID\", \"gene_id\")\n",
    "    ),\n",
    "    \"METHYL\": pl.read_csv(\n",
    "        \"data/METHYL_feature_annotation.csv\", schema_overrides={\"EntrezID\": pl.String}\n",
    "    ).select(pl.col(\"feature_ID\", \"EntrezID\")),\n",
    "}"
   ]
  },
  {
   "cell_type": "code",
   "execution_count": 61,
   "id": "5b414a3782c6c66e",
   "metadata": {
    "ExecuteTime": {
     "end_time": "2025-04-02T14:08:13.683564Z",
     "start_time": "2025-04-02T14:08:13.196093Z"
    }
   },
   "outputs": [],
   "source": [
    "genomic_data = pl.read_csv(\"data/TRAINING_REGULATED_NORM_DATA.csv\", null_values=[\"NA\"]).filter(\n",
    "    pl.col(\"assay\").is_in(assays)\n",
    ").drop(\"dataset\")\n",
    "feature_to_gene = pl.read_csv(\"data/FEATURE_TO_GENE.csv\", null_values=[\"NA\"])"
   ]
  },
  {
   "cell_type": "code",
   "execution_count": 62,
   "id": "a11fdb43b3f6c04e",
   "metadata": {
    "ExecuteTime": {
     "end_time": "2025-04-02T14:08:13.863187Z",
     "start_time": "2025-04-02T14:08:13.734360Z"
    }
   },
   "outputs": [],
   "source": [
    "data: pl.DataFrame = genomic_data.join(\n",
    "    feature_to_gene.select(pl.col(\"feature_ID\", \"ensembl_gene\")),\n",
    "    on=\"feature_ID\",\n",
    "    how=\"left\",\n",
    ").drop(pl.selectors.by_index(0))"
   ]
  },
  {
   "cell_type": "code",
   "execution_count": 69,
   "id": "dda826fa93bc973c",
   "metadata": {
    "ExecuteTime": {
     "end_time": "2025-04-02T14:33:23.671531Z",
     "start_time": "2025-04-02T14:33:23.654168Z"
    }
   },
   "outputs": [
    {
     "data": {
      "text/html": [
       "<div><style>\n",
       ".dataframe > thead > tr,\n",
       ".dataframe > tbody > tr {\n",
       "  text-align: right;\n",
       "  white-space: pre-wrap;\n",
       "}\n",
       "</style>\n",
       "<small>shape: (22_680, 73)</small><table border=\"1\" class=\"dataframe\"><thead><tr><th>feature</th><th>ensembl_gene</th><th>10027327</th><th>10043527</th><th>10502300</th><th>10411690</th><th>10185585</th><th>10046461</th><th>10024735</th><th>10871349</th><th>10700102</th><th>10561072</th><th>10337199</th><th>10023259</th><th>10046380</th><th>10025707</th><th>10734945</th><th>10641858</th><th>10045228</th><th>10953744</th><th>10106383</th><th>10971645</th><th>10025626</th><th>10044922</th><th>10027599</th><th>10950486</th><th>10486003</th><th>10306471</th><th>10044841</th><th>10026193</th><th>10901434</th><th>10026355</th><th>10729518</th><th>10095241</th><th>10044337</th><th>10589325</th><th>10044760</th><th>10381414</th><th>10503110</th><th>10046119</th><th>10220917</th><th>10680837</th><th>10027165</th><th>10335064</th><th>10587543</th><th>10934529</th><th>10044256</th><th>10672656</th><th>10043950</th><th>10026517</th><th>10314733</th><th>10204989</th><th>10045309</th><th>10422463</th><th>10833331</th><th>10761160</th><th>10025979</th><th>10026789</th><th>10139044</th><th>10417702</th><th>10424911</th><th>10027408</th><th>10046542</th><th>10025464</th><th>10026274</th><th>10043799</th><th>10046704</th><th>10059369</th><th>10152148</th><th>10315624</th><th>10027912</th><th>10677887</th><th>10619259</th></tr><tr><td>str</td><td>str</td><td>f64</td><td>f64</td><td>f64</td><td>f64</td><td>f64</td><td>f64</td><td>f64</td><td>f64</td><td>f64</td><td>f64</td><td>f64</td><td>f64</td><td>f64</td><td>f64</td><td>f64</td><td>f64</td><td>f64</td><td>f64</td><td>f64</td><td>f64</td><td>f64</td><td>f64</td><td>f64</td><td>f64</td><td>f64</td><td>f64</td><td>f64</td><td>f64</td><td>f64</td><td>f64</td><td>f64</td><td>f64</td><td>f64</td><td>f64</td><td>f64</td><td>f64</td><td>f64</td><td>f64</td><td>f64</td><td>f64</td><td>f64</td><td>f64</td><td>f64</td><td>f64</td><td>f64</td><td>f64</td><td>f64</td><td>f64</td><td>f64</td><td>f64</td><td>f64</td><td>f64</td><td>f64</td><td>f64</td><td>str</td><td>str</td><td>str</td><td>str</td><td>str</td><td>str</td><td>str</td><td>str</td><td>str</td><td>str</td><td>str</td><td>str</td><td>str</td><td>str</td><td>str</td><td>str</td><td>str</td></tr></thead><tbody><tr><td>&quot;TRNSCRPT;ADRNL;ENSRNOG00000000…</td><td>&quot;ENSRNOG00000000008&quot;</td><td>-0.7387</td><td>-0.94139</td><td>-0.59007</td><td>-2.14966</td><td>-1.43455</td><td>-0.76078</td><td>-0.63198</td><td>-0.62297</td><td>-1.79689</td><td>-1.08953</td><td>-0.02867</td><td>-0.58012</td><td>1.2856</td><td>-1.14739</td><td>-0.66794</td><td>-0.94411</td><td>-1.2895</td><td>2.72672</td><td>-1.40085</td><td>0.263</td><td>-0.48365</td><td>null</td><td>-0.20343</td><td>-1.67123</td><td>-0.77388</td><td>-1.20951</td><td>null</td><td>-0.80985</td><td>-0.92411</td><td>-0.43588</td><td>-1.63783</td><td>-1.02324</td><td>0.764</td><td>null</td><td>-0.76695</td><td>-1.50401</td><td>-0.18138</td><td>1.08491</td><td>-3.51724</td><td>null</td><td>null</td><td>-0.94709</td><td>-0.76845</td><td>null</td><td>-2.44742</td><td>-1.35228</td><td>-1.05139</td><td>null</td><td>null</td><td>null</td><td>-1.5542</td><td>-0.85559</td><td>-1.7128</td><td>-3.51724</td><td>null</td><td>null</td><td>null</td><td>null</td><td>null</td><td>null</td><td>null</td><td>null</td><td>null</td><td>null</td><td>null</td><td>null</td><td>null</td><td>null</td><td>null</td><td>null</td><td>null</td></tr><tr><td>&quot;TRNSCRPT;ADRNL;ENSRNOG00000000…</td><td>&quot;ENSRNOG00000000012&quot;</td><td>-0.96029</td><td>-1.35582</td><td>0.02768</td><td>-0.86926</td><td>-0.61576</td><td>-1.56168</td><td>1.69249</td><td>-0.74119</td><td>-0.30582</td><td>1.73951</td><td>1.10789</td><td>-2.29582</td><td>3.03771</td><td>-2.00485</td><td>-2.91582</td><td>-1.94174</td><td>-2.90721</td><td>4.1858</td><td>0.06307</td><td>1.43275</td><td>-1.31742</td><td>null</td><td>-0.87082</td><td>-0.24669</td><td>-0.36551</td><td>-0.27441</td><td>null</td><td>0.28046</td><td>-0.92411</td><td>-1.27477</td><td>-0.63691</td><td>-2.16988</td><td>2.02577</td><td>null</td><td>-0.76695</td><td>-0.47941</td><td>3.52712</td><td>1.74053</td><td>-2.37123</td><td>null</td><td>null</td><td>-0.37653</td><td>0.57194</td><td>null</td><td>-2.44742</td><td>-1.71444</td><td>-0.93783</td><td>null</td><td>null</td><td>null</td><td>-1.78647</td><td>2.4819</td><td>-0.06152</td><td>-1.06518</td><td>null</td><td>null</td><td>null</td><td>null</td><td>null</td><td>null</td><td>null</td><td>null</td><td>null</td><td>null</td><td>null</td><td>null</td><td>null</td><td>null</td><td>null</td><td>null</td><td>null</td></tr><tr><td>&quot;TRNSCRPT;SKM-VL;ENSRNOG0000000…</td><td>&quot;ENSRNOG00000000012&quot;</td><td>3.33676</td><td>2.72366</td><td>3.34911</td><td>3.22432</td><td>3.07093</td><td>2.56057</td><td>3.01327</td><td>2.65165</td><td>3.39886</td><td>2.80459</td><td>3.19826</td><td>1.91861</td><td>2.85838</td><td>3.07432</td><td>2.81308</td><td>2.84335</td><td>3.41182</td><td>2.69129</td><td>3.17792</td><td>3.05436</td><td>2.83334</td><td>null</td><td>2.79843</td><td>3.00107</td><td>2.74596</td><td>3.75096</td><td>null</td><td>2.77907</td><td>2.97214</td><td>2.41595</td><td>2.97353</td><td>3.129</td><td>2.40007</td><td>null</td><td>3.33575</td><td>3.20343</td><td>2.51432</td><td>3.00123</td><td>2.40892</td><td>null</td><td>null</td><td>3.00997</td><td>2.32237</td><td>null</td><td>2.95545</td><td>2.87391</td><td>3.10745</td><td>null</td><td>null</td><td>null</td><td>2.77594</td><td>2.63467</td><td>2.89851</td><td>2.84704</td><td>null</td><td>null</td><td>null</td><td>null</td><td>null</td><td>null</td><td>null</td><td>null</td><td>null</td><td>null</td><td>null</td><td>null</td><td>null</td><td>null</td><td>null</td><td>null</td><td>null</td></tr><tr><td>&quot;TRNSCRPT;BLOOD;ENSRNOG00000000…</td><td>&quot;ENSRNOG00000000033&quot;</td><td>10.32644</td><td>10.51219</td><td>10.61489</td><td>10.6903</td><td>10.24134</td><td>11.42502</td><td>10.7625</td><td>10.73769</td><td>11.28948</td><td>10.79336</td><td>10.68634</td><td>10.62481</td><td>10.59316</td><td>10.71052</td><td>10.79884</td><td>10.7835</td><td>10.78103</td><td>11.80194</td><td>10.64148</td><td>10.80058</td><td>11.88018</td><td>null</td><td>9.96763</td><td>10.93355</td><td>10.98993</td><td>11.07955</td><td>null</td><td>11.02782</td><td>11.068</td><td>10.35532</td><td>10.83963</td><td>10.73762</td><td>11.3904</td><td>null</td><td>11.27262</td><td>10.49174</td><td>10.7671</td><td>10.66741</td><td>10.45913</td><td>null</td><td>null</td><td>10.7103</td><td>11.06256</td><td>null</td><td>10.93289</td><td>11.03946</td><td>10.82259</td><td>null</td><td>null</td><td>null</td><td>11.0404</td><td>10.66166</td><td>11.17609</td><td>11.30269</td><td>null</td><td>null</td><td>null</td><td>null</td><td>null</td><td>null</td><td>null</td><td>null</td><td>null</td><td>null</td><td>null</td><td>null</td><td>null</td><td>null</td><td>null</td><td>null</td><td>null</td></tr><tr><td>&quot;TRNSCRPT;SPLEEN;ENSRNOG0000000…</td><td>&quot;ENSRNOG00000000034&quot;</td><td>4.92402</td><td>5.25481</td><td>4.91776</td><td>4.95928</td><td>4.98145</td><td>4.93014</td><td>5.14171</td><td>4.76962</td><td>4.94224</td><td>4.89234</td><td>4.828</td><td>5.01863</td><td>4.96145</td><td>5.00147</td><td>5.05976</td><td>4.82992</td><td>4.87617</td><td>4.964</td><td>4.88907</td><td>4.75455</td><td>5.11117</td><td>null</td><td>4.77346</td><td>4.85299</td><td>4.90152</td><td>4.83097</td><td>null</td><td>5.14089</td><td>4.89248</td><td>4.83576</td><td>4.93872</td><td>4.94595</td><td>5.06155</td><td>null</td><td>4.67974</td><td>4.87997</td><td>4.89266</td><td>4.89037</td><td>5.09387</td><td>null</td><td>null</td><td>4.91719</td><td>4.7266</td><td>null</td><td>5.08951</td><td>4.83033</td><td>4.83019</td><td>null</td><td>null</td><td>null</td><td>4.83834</td><td>4.84122</td><td>4.91153</td><td>4.90224</td><td>null</td><td>null</td><td>null</td><td>null</td><td>null</td><td>null</td><td>null</td><td>null</td><td>null</td><td>null</td><td>null</td><td>null</td><td>null</td><td>null</td><td>null</td><td>null</td><td>null</td></tr><tr><td>&hellip;</td><td>&hellip;</td><td>&hellip;</td><td>&hellip;</td><td>&hellip;</td><td>&hellip;</td><td>&hellip;</td><td>&hellip;</td><td>&hellip;</td><td>&hellip;</td><td>&hellip;</td><td>&hellip;</td><td>&hellip;</td><td>&hellip;</td><td>&hellip;</td><td>&hellip;</td><td>&hellip;</td><td>&hellip;</td><td>&hellip;</td><td>&hellip;</td><td>&hellip;</td><td>&hellip;</td><td>&hellip;</td><td>&hellip;</td><td>&hellip;</td><td>&hellip;</td><td>&hellip;</td><td>&hellip;</td><td>&hellip;</td><td>&hellip;</td><td>&hellip;</td><td>&hellip;</td><td>&hellip;</td><td>&hellip;</td><td>&hellip;</td><td>&hellip;</td><td>&hellip;</td><td>&hellip;</td><td>&hellip;</td><td>&hellip;</td><td>&hellip;</td><td>&hellip;</td><td>&hellip;</td><td>&hellip;</td><td>&hellip;</td><td>&hellip;</td><td>&hellip;</td><td>&hellip;</td><td>&hellip;</td><td>&hellip;</td><td>&hellip;</td><td>&hellip;</td><td>&hellip;</td><td>&hellip;</td><td>&hellip;</td><td>&hellip;</td><td>&hellip;</td><td>&hellip;</td><td>&hellip;</td><td>&hellip;</td><td>&hellip;</td><td>&hellip;</td><td>&hellip;</td><td>&hellip;</td><td>&hellip;</td><td>&hellip;</td><td>&hellip;</td><td>&hellip;</td><td>&hellip;</td><td>&hellip;</td><td>&hellip;</td><td>&hellip;</td><td>&hellip;</td></tr><tr><td>&quot;TRNSCRPT;CORTEX;ENSRNOG0000006…</td><td>&quot;ENSRNOG00000062298&quot;</td><td>7.80153</td><td>7.86228</td><td>7.95315</td><td>7.98049</td><td>7.90078</td><td>7.95287</td><td>7.84731</td><td>7.78866</td><td>7.73203</td><td>7.85542</td><td>7.82086</td><td>7.8974</td><td>7.89062</td><td>7.76701</td><td>7.74935</td><td>7.78271</td><td>7.95547</td><td>7.80914</td><td>7.80084</td><td>7.76056</td><td>7.90315</td><td>null</td><td>7.91171</td><td>7.72874</td><td>7.83716</td><td>7.83823</td><td>null</td><td>7.83111</td><td>7.83367</td><td>7.93508</td><td>7.86892</td><td>7.78294</td><td>7.96183</td><td>null</td><td>7.95439</td><td>7.92551</td><td>7.8466</td><td>7.88103</td><td>7.86496</td><td>null</td><td>null</td><td>7.77309</td><td>7.74828</td><td>null</td><td>8.05267</td><td>7.86358</td><td>7.94966</td><td>null</td><td>null</td><td>null</td><td>7.87404</td><td>7.93179</td><td>7.86661</td><td>7.93896</td><td>null</td><td>null</td><td>null</td><td>null</td><td>null</td><td>null</td><td>null</td><td>null</td><td>null</td><td>null</td><td>null</td><td>null</td><td>null</td><td>null</td><td>null</td><td>null</td><td>null</td></tr><tr><td>&quot;TRNSCRPT;BLOOD;ENSRNOG00000062…</td><td>&quot;ENSRNOG00000062298&quot;</td><td>9.73794</td><td>9.72359</td><td>9.72547</td><td>9.6957</td><td>9.67605</td><td>10.14496</td><td>10.22612</td><td>9.71573</td><td>9.85822</td><td>9.66096</td><td>9.54961</td><td>9.62056</td><td>9.55499</td><td>10.09507</td><td>9.55427</td><td>9.86695</td><td>9.81229</td><td>9.9568</td><td>10.26058</td><td>9.87158</td><td>10.17272</td><td>null</td><td>9.57886</td><td>9.72736</td><td>9.97563</td><td>9.85875</td><td>null</td><td>10.28257</td><td>9.61318</td><td>9.65669</td><td>9.46311</td><td>9.80264</td><td>9.8856</td><td>null</td><td>9.93612</td><td>9.49881</td><td>9.8243</td><td>9.69264</td><td>9.74389</td><td>null</td><td>null</td><td>9.65447</td><td>9.61257</td><td>null</td><td>9.76</td><td>9.57007</td><td>9.75</td><td>null</td><td>null</td><td>null</td><td>9.72034</td><td>9.73638</td><td>9.70099</td><td>9.82906</td><td>null</td><td>null</td><td>null</td><td>null</td><td>null</td><td>null</td><td>null</td><td>null</td><td>null</td><td>null</td><td>null</td><td>null</td><td>null</td><td>null</td><td>null</td><td>null</td><td>null</td></tr><tr><td>&quot;TRNSCRPT;HEART;ENSRNOG00000062…</td><td>&quot;ENSRNOG00000062298&quot;</td><td>7.93414</td><td>7.90423</td><td>7.8066</td><td>7.87698</td><td>7.84096</td><td>7.83103</td><td>7.90266</td><td>7.8111</td><td>7.90872</td><td>7.84575</td><td>7.93611</td><td>7.92842</td><td>7.91631</td><td>7.83973</td><td>7.82637</td><td>7.82781</td><td>7.84139</td><td>7.78762</td><td>7.82569</td><td>7.83604</td><td>7.84247</td><td>null</td><td>7.90824</td><td>7.88587</td><td>7.85107</td><td>7.9139</td><td>null</td><td>7.84159</td><td>7.8302</td><td>7.90798</td><td>7.8593</td><td>7.79202</td><td>7.90021</td><td>null</td><td>7.75029</td><td>7.89467</td><td>7.80775</td><td>7.8895</td><td>7.82621</td><td>null</td><td>null</td><td>7.86794</td><td>7.87521</td><td>null</td><td>7.73686</td><td>7.79369</td><td>7.84159</td><td>null</td><td>null</td><td>null</td><td>7.85342</td><td>7.84073</td><td>7.87179</td><td>7.82162</td><td>null</td><td>null</td><td>null</td><td>null</td><td>null</td><td>null</td><td>null</td><td>null</td><td>null</td><td>null</td><td>null</td><td>null</td><td>null</td><td>null</td><td>null</td><td>null</td><td>null</td></tr><tr><td>&quot;TRNSCRPT;KIDNEY;ENSRNOG0000006…</td><td>&quot;ENSRNOG00000062298&quot;</td><td>8.25875</td><td>8.40485</td><td>8.22936</td><td>8.37623</td><td>8.2416</td><td>8.53105</td><td>8.25432</td><td>8.44644</td><td>8.46474</td><td>8.21529</td><td>8.39677</td><td>8.24983</td><td>8.38762</td><td>8.36441</td><td>8.5007</td><td>8.30406</td><td>8.47471</td><td>8.45478</td><td>8.38536</td><td>8.32947</td><td>8.34141</td><td>null</td><td>8.17706</td><td>8.54627</td><td>8.32635</td><td>8.40126</td><td>null</td><td>8.36505</td><td>8.41879</td><td>8.148</td><td>8.50455</td><td>8.27352</td><td>8.40506</td><td>null</td><td>8.52065</td><td>8.47443</td><td>8.35024</td><td>8.36505</td><td>8.19715</td><td>null</td><td>null</td><td>8.42142</td><td>8.2137</td><td>null</td><td>8.41388</td><td>8.2989</td><td>8.36806</td><td>null</td><td>null</td><td>null</td><td>8.56321</td><td>8.25514</td><td>8.4836</td><td>8.43781</td><td>null</td><td>null</td><td>null</td><td>null</td><td>null</td><td>null</td><td>null</td><td>null</td><td>null</td><td>null</td><td>null</td><td>null</td><td>null</td><td>null</td><td>null</td><td>null</td><td>null</td></tr><tr><td>&quot;TRNSCRPT;ADRNL;ENSRNOG00000062…</td><td>&quot;ENSRNOG00000062306&quot;</td><td>3.93402</td><td>3.00277</td><td>3.70898</td><td>3.37093</td><td>3.39098</td><td>3.39867</td><td>3.96857</td><td>3.02552</td><td>3.135</td><td>3.56239</td><td>3.31913</td><td>3.31177</td><td>3.50661</td><td>4.21273</td><td>3.1761</td><td>3.62326</td><td>3.42945</td><td>3.79191</td><td>4.02136</td><td>3.51254</td><td>4.20963</td><td>null</td><td>3.39276</td><td>3.07414</td><td>3.66865</td><td>3.09868</td><td>null</td><td>3.98544</td><td>3.02204</td><td>3.80897</td><td>3.15335</td><td>3.78827</td><td>3.56086</td><td>null</td><td>3.48939</td><td>3.18561</td><td>3.56403</td><td>3.31067</td><td>4.05197</td><td>null</td><td>null</td><td>3.43286</td><td>3.6076</td><td>null</td><td>3.70036</td><td>3.69282</td><td>3.09114</td><td>null</td><td>null</td><td>null</td><td>3.24106</td><td>3.51059</td><td>3.04344</td><td>3.1003</td><td>null</td><td>null</td><td>null</td><td>null</td><td>null</td><td>null</td><td>null</td><td>null</td><td>null</td><td>null</td><td>null</td><td>null</td><td>null</td><td>null</td><td>null</td><td>null</td><td>null</td></tr></tbody></table></div>"
      ],
      "text/plain": [
       "shape: (22_680, 73)\n",
       "┌──────────────┬─────────────┬──────────┬──────────┬───┬──────────┬──────────┬──────────┬──────────┐\n",
       "│ feature      ┆ ensembl_gen ┆ 10027327 ┆ 10043527 ┆ … ┆ 10315624 ┆ 10027912 ┆ 10677887 ┆ 10619259 │\n",
       "│ ---          ┆ e           ┆ ---      ┆ ---      ┆   ┆ ---      ┆ ---      ┆ ---      ┆ ---      │\n",
       "│ str          ┆ ---         ┆ f64      ┆ f64      ┆   ┆ str      ┆ str      ┆ str      ┆ str      │\n",
       "│              ┆ str         ┆          ┆          ┆   ┆          ┆          ┆          ┆          │\n",
       "╞══════════════╪═════════════╪══════════╪══════════╪═══╪══════════╪══════════╪══════════╪══════════╡\n",
       "│ TRNSCRPT;ADR ┆ ENSRNOG0000 ┆ -0.7387  ┆ -0.94139 ┆ … ┆ null     ┆ null     ┆ null     ┆ null     │\n",
       "│ NL;ENSRNOG00 ┆ 0000008     ┆          ┆          ┆   ┆          ┆          ┆          ┆          │\n",
       "│ 000000…      ┆             ┆          ┆          ┆   ┆          ┆          ┆          ┆          │\n",
       "│ TRNSCRPT;ADR ┆ ENSRNOG0000 ┆ -0.96029 ┆ -1.35582 ┆ … ┆ null     ┆ null     ┆ null     ┆ null     │\n",
       "│ NL;ENSRNOG00 ┆ 0000012     ┆          ┆          ┆   ┆          ┆          ┆          ┆          │\n",
       "│ 000000…      ┆             ┆          ┆          ┆   ┆          ┆          ┆          ┆          │\n",
       "│ TRNSCRPT;SKM ┆ ENSRNOG0000 ┆ 3.33676  ┆ 2.72366  ┆ … ┆ null     ┆ null     ┆ null     ┆ null     │\n",
       "│ -VL;ENSRNOG0 ┆ 0000012     ┆          ┆          ┆   ┆          ┆          ┆          ┆          │\n",
       "│ 000000…      ┆             ┆          ┆          ┆   ┆          ┆          ┆          ┆          │\n",
       "│ TRNSCRPT;BLO ┆ ENSRNOG0000 ┆ 10.32644 ┆ 10.51219 ┆ … ┆ null     ┆ null     ┆ null     ┆ null     │\n",
       "│ OD;ENSRNOG00 ┆ 0000033     ┆          ┆          ┆   ┆          ┆          ┆          ┆          │\n",
       "│ 000000…      ┆             ┆          ┆          ┆   ┆          ┆          ┆          ┆          │\n",
       "│ TRNSCRPT;SPL ┆ ENSRNOG0000 ┆ 4.92402  ┆ 5.25481  ┆ … ┆ null     ┆ null     ┆ null     ┆ null     │\n",
       "│ EEN;ENSRNOG0 ┆ 0000034     ┆          ┆          ┆   ┆          ┆          ┆          ┆          │\n",
       "│ 000000…      ┆             ┆          ┆          ┆   ┆          ┆          ┆          ┆          │\n",
       "│ …            ┆ …           ┆ …        ┆ …        ┆ … ┆ …        ┆ …        ┆ …        ┆ …        │\n",
       "│ TRNSCRPT;COR ┆ ENSRNOG0000 ┆ 7.80153  ┆ 7.86228  ┆ … ┆ null     ┆ null     ┆ null     ┆ null     │\n",
       "│ TEX;ENSRNOG0 ┆ 0062298     ┆          ┆          ┆   ┆          ┆          ┆          ┆          │\n",
       "│ 000006…      ┆             ┆          ┆          ┆   ┆          ┆          ┆          ┆          │\n",
       "│ TRNSCRPT;BLO ┆ ENSRNOG0000 ┆ 9.73794  ┆ 9.72359  ┆ … ┆ null     ┆ null     ┆ null     ┆ null     │\n",
       "│ OD;ENSRNOG00 ┆ 0062298     ┆          ┆          ┆   ┆          ┆          ┆          ┆          │\n",
       "│ 000062…      ┆             ┆          ┆          ┆   ┆          ┆          ┆          ┆          │\n",
       "│ TRNSCRPT;HEA ┆ ENSRNOG0000 ┆ 7.93414  ┆ 7.90423  ┆ … ┆ null     ┆ null     ┆ null     ┆ null     │\n",
       "│ RT;ENSRNOG00 ┆ 0062298     ┆          ┆          ┆   ┆          ┆          ┆          ┆          │\n",
       "│ 000062…      ┆             ┆          ┆          ┆   ┆          ┆          ┆          ┆          │\n",
       "│ TRNSCRPT;KID ┆ ENSRNOG0000 ┆ 8.25875  ┆ 8.40485  ┆ … ┆ null     ┆ null     ┆ null     ┆ null     │\n",
       "│ NEY;ENSRNOG0 ┆ 0062298     ┆          ┆          ┆   ┆          ┆          ┆          ┆          │\n",
       "│ 000006…      ┆             ┆          ┆          ┆   ┆          ┆          ┆          ┆          │\n",
       "│ TRNSCRPT;ADR ┆ ENSRNOG0000 ┆ 3.93402  ┆ 3.00277  ┆ … ┆ null     ┆ null     ┆ null     ┆ null     │\n",
       "│ NL;ENSRNOG00 ┆ 0062306     ┆          ┆          ┆   ┆          ┆          ┆          ┆          │\n",
       "│ 000062…      ┆             ┆          ┆          ┆   ┆          ┆          ┆          ┆          │\n",
       "└──────────────┴─────────────┴──────────┴──────────┴───┴──────────┴──────────┴──────────┴──────────┘"
      ]
     },
     "execution_count": 69,
     "metadata": {},
     "output_type": "execute_result"
    }
   ],
   "source": [
    "data.drop(\"tissue\", \"assay\", \"feature_ID\").group_by(\"feature\", \"ensembl_gene\").mean().sort(\"ensembl_gene\")"
   ]
  },
  {
   "cell_type": "markdown",
   "id": "7b177f1a",
   "metadata": {},
   "source": [
    "## Phenotype Processing"
   ]
  },
  {
   "cell_type": "code",
   "execution_count": 1,
   "id": "d867e6a5",
   "metadata": {},
   "outputs": [],
   "source": [
    "import pandas as pd"
   ]
  },
  {
   "cell_type": "code",
   "execution_count": 2,
   "id": "270d8715",
   "metadata": {},
   "outputs": [
    {
     "name": "stderr",
     "output_type": "stream",
     "text": [
      "/var/folders/lt/nn7tpp3967v9_lrhrs65k5j80000gn/T/ipykernel_9709/501660619.py:2: DtypeWarning: Columns (37,40,41,42,44,50,66,81,82,104,112,120,128,137,147,156,165,174,183,184,186,193,194,196,201,202,204,209,210,212,217,218,220,226,227,229,236,237,239,244,245,247,252,253,255,260,261,263,269,270,272,279,280,282,287,288,290,295,296,298,303,304,306,312,313,315,322,323,325,330,331,333,338,339,341,346,347,349,355,356,358,365,366,368,373,374,376,381,382,384,389,390,392,398,399,401,403,404,406,411,412,414,419,420,422,428,429,431,437,455,456,459,460,461,463,465,471,473,492) have mixed types. Specify dtype option on import or set low_memory=False.\n",
      "  pheno = pd.read_csv(\"phenotype.csv\")\n"
     ]
    }
   ],
   "source": [
    "# Reading phenotype data\n",
    "pheno = pd.read_csv(\"phenotype.csv\")"
   ]
  },
  {
   "cell_type": "code",
   "execution_count": 3,
   "id": "042b0bb3",
   "metadata": {},
   "outputs": [],
   "source": [
    "# Subsetting phenotype data to include necessary columns\n",
    "phenoSubset = pheno[[\"pid\", \n",
    "                     \"viallabel\", \n",
    "                     \"sex\", \n",
    "                     \"vo2.max.test.vo2_max_2\", \n",
    "                     \"registration.weight\", \n",
    "                     \"terminal.weight.bw\", \n",
    "                     \"group\"]]"
   ]
  },
  {
   "cell_type": "code",
   "execution_count": 4,
   "id": "a92cce5c",
   "metadata": {},
   "outputs": [
    {
     "name": "stderr",
     "output_type": "stream",
     "text": [
      "/var/folders/lt/nn7tpp3967v9_lrhrs65k5j80000gn/T/ipykernel_9709/3632688668.py:2: SettingWithCopyWarning: \n",
      "A value is trying to be set on a copy of a slice from a DataFrame.\n",
      "Try using .loc[row_indexer,col_indexer] = value instead\n",
      "\n",
      "See the caveats in the documentation: https://pandas.pydata.org/pandas-docs/stable/user_guide/indexing.html#returning-a-view-versus-a-copy\n",
      "  phenoSubset[\"mass_lost\"] = phenoSubset[\"registration.weight\"] - phenoSubset[\"terminal.weight.bw\"]\n",
      "/var/folders/lt/nn7tpp3967v9_lrhrs65k5j80000gn/T/ipykernel_9709/3632688668.py:4: SettingWithCopyWarning: \n",
      "A value is trying to be set on a copy of a slice from a DataFrame.\n",
      "Try using .loc[row_indexer,col_indexer] = value instead\n",
      "\n",
      "See the caveats in the documentation: https://pandas.pydata.org/pandas-docs/stable/user_guide/indexing.html#returning-a-view-versus-a-copy\n",
      "  phenoSubset[\"norm_mass_lost\"] = phenoSubset[\"mass_lost\"] / phenoSubset[\"registration.weight\"]\n"
     ]
    }
   ],
   "source": [
    "# Weight loss calculation\n",
    "phenoSubset[\"mass_lost\"] = phenoSubset[\"registration.weight\"] - phenoSubset[\"terminal.weight.bw\"]\n",
    "\n",
    "phenoSubset[\"norm_mass_lost\"] = phenoSubset[\"mass_lost\"] / phenoSubset[\"registration.weight\"]"
   ]
  },
  {
   "cell_type": "code",
   "execution_count": 5,
   "id": "1780970f",
   "metadata": {},
   "outputs": [
    {
     "data": {
      "text/html": [
       "<div>\n",
       "<style scoped>\n",
       "    .dataframe tbody tr th:only-of-type {\n",
       "        vertical-align: middle;\n",
       "    }\n",
       "\n",
       "    .dataframe tbody tr th {\n",
       "        vertical-align: top;\n",
       "    }\n",
       "\n",
       "    .dataframe thead th {\n",
       "        text-align: right;\n",
       "    }\n",
       "</style>\n",
       "<table border=\"1\" class=\"dataframe\">\n",
       "  <thead>\n",
       "    <tr style=\"text-align: right;\">\n",
       "      <th></th>\n",
       "      <th>pid</th>\n",
       "      <th>viallabel</th>\n",
       "      <th>sex</th>\n",
       "      <th>vo2.max.test.vo2_max_2</th>\n",
       "      <th>registration.weight</th>\n",
       "      <th>terminal.weight.bw</th>\n",
       "      <th>group</th>\n",
       "      <th>mass_lost</th>\n",
       "      <th>norm_mass_lost</th>\n",
       "    </tr>\n",
       "  </thead>\n",
       "  <tbody>\n",
       "    <tr>\n",
       "      <th>0</th>\n",
       "      <td>10023259</td>\n",
       "      <td>90217013001</td>\n",
       "      <td>male</td>\n",
       "      <td>63.47</td>\n",
       "      <td>335.0</td>\n",
       "      <td>346.2</td>\n",
       "      <td>control</td>\n",
       "      <td>-11.2</td>\n",
       "      <td>-0.033433</td>\n",
       "    </tr>\n",
       "    <tr>\n",
       "      <th>1</th>\n",
       "      <td>10023259</td>\n",
       "      <td>90217013104</td>\n",
       "      <td>male</td>\n",
       "      <td>63.47</td>\n",
       "      <td>335.0</td>\n",
       "      <td>346.2</td>\n",
       "      <td>control</td>\n",
       "      <td>-11.2</td>\n",
       "      <td>-0.033433</td>\n",
       "    </tr>\n",
       "    <tr>\n",
       "      <th>2</th>\n",
       "      <td>10023259</td>\n",
       "      <td>90217013105</td>\n",
       "      <td>male</td>\n",
       "      <td>63.47</td>\n",
       "      <td>335.0</td>\n",
       "      <td>346.2</td>\n",
       "      <td>control</td>\n",
       "      <td>-11.2</td>\n",
       "      <td>-0.033433</td>\n",
       "    </tr>\n",
       "    <tr>\n",
       "      <th>3</th>\n",
       "      <td>10023259</td>\n",
       "      <td>90217013106</td>\n",
       "      <td>male</td>\n",
       "      <td>63.47</td>\n",
       "      <td>335.0</td>\n",
       "      <td>346.2</td>\n",
       "      <td>control</td>\n",
       "      <td>-11.2</td>\n",
       "      <td>-0.033433</td>\n",
       "    </tr>\n",
       "    <tr>\n",
       "      <th>4</th>\n",
       "      <td>10023259</td>\n",
       "      <td>90217013107</td>\n",
       "      <td>male</td>\n",
       "      <td>63.47</td>\n",
       "      <td>335.0</td>\n",
       "      <td>346.2</td>\n",
       "      <td>control</td>\n",
       "      <td>-11.2</td>\n",
       "      <td>-0.033433</td>\n",
       "    </tr>\n",
       "  </tbody>\n",
       "</table>\n",
       "</div>"
      ],
      "text/plain": [
       "        pid    viallabel   sex  vo2.max.test.vo2_max_2  registration.weight  \\\n",
       "0  10023259  90217013001  male                   63.47                335.0   \n",
       "1  10023259  90217013104  male                   63.47                335.0   \n",
       "2  10023259  90217013105  male                   63.47                335.0   \n",
       "3  10023259  90217013106  male                   63.47                335.0   \n",
       "4  10023259  90217013107  male                   63.47                335.0   \n",
       "\n",
       "   terminal.weight.bw    group  mass_lost  norm_mass_lost  \n",
       "0               346.2  control      -11.2       -0.033433  \n",
       "1               346.2  control      -11.2       -0.033433  \n",
       "2               346.2  control      -11.2       -0.033433  \n",
       "3               346.2  control      -11.2       -0.033433  \n",
       "4               346.2  control      -11.2       -0.033433  "
      ]
     },
     "execution_count": 5,
     "metadata": {},
     "output_type": "execute_result"
    }
   ],
   "source": [
    "phenoSubset.head()"
   ]
  },
  {
   "cell_type": "code",
   "execution_count": null,
   "id": "35ba79df",
   "metadata": {},
   "outputs": [],
   "source": [
    "phenoSubset.to_csv(\"phenoSubset.csv\")"
   ]
  }
 ],
 "metadata": {
  "kernelspec": {
   "display_name": "Python 3 (ipykernel)",
   "language": "python",
   "name": "python3"
  },
  "language_info": {
   "codemirror_mode": {
    "name": "ipython",
    "version": 3
   },
   "file_extension": ".py",
   "mimetype": "text/x-python",
   "name": "python",
   "nbconvert_exporter": "python",
   "pygments_lexer": "ipython3",
   "version": "3.11.0"
  }
 },
 "nbformat": 4,
 "nbformat_minor": 5
}
