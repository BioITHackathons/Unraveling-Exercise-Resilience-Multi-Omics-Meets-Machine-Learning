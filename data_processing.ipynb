{
 "cells": [
  {
   "cell_type": "code",
   "execution_count": 1,
   "id": "9c35881f",
   "metadata": {
    "ExecuteTime": {
     "end_time": "2025-04-02T08:33:27.231431Z",
     "start_time": "2025-04-02T08:33:27.160537Z"
    }
   },
   "outputs": [],
   "source": [
    "import os\n",
    "from itertools import product\n",
    "import polars as pl"
   ]
  },
  {
   "cell_type": "code",
   "id": "31ef3461d3855716",
   "metadata": {
    "ExecuteTime": {
     "end_time": "2025-04-02T08:39:15.228766Z",
     "start_time": "2025-04-02T08:39:15.226718Z"
    }
   },
   "source": [
    "tissues = [\"BAT\", \"BLOOD\", \"LIVER\", \"HEART\", \"WAT-SC\", \"SKM-GN\", \"HYPOTH\"]\n",
    "assays = [\"ATAC\", \"TRNSCRPT\", \"METHYL\"]\n",
    "\n",
    "products = list(product(tissues, assays))"
   ],
   "outputs": [],
   "execution_count": 10
  },
  {
   "cell_type": "code",
   "id": "dd4d1696a954af05",
   "metadata": {
    "ExecuteTime": {
     "end_time": "2025-04-02T08:39:17.703888Z",
     "start_time": "2025-04-02T08:39:15.779880Z"
    }
   },
   "source": [
    "annotations = {\n",
    "    \"ATAC\": pl.read_csv(\n",
    "        \"data/ATAC_feature_annotation.csv\", schema_overrides={\"chrom\": pl.String}\n",
    "    ).select(pl.col(\"feature_ID\", \"ensembl_gene\")),\n",
    "    \"TRNSCRPT\": pl.read_csv(\"data/TRNSCRPT_feature_annotation.csv\").select(\n",
    "        pl.col(\"feature_ID\", \"gene_id\")\n",
    "    ),\n",
    "    \"METHYL\": pl.read_csv(\n",
    "        \"data/METHYL_feature_annotation.csv\", schema_overrides={\"EntrezID\": pl.String}\n",
    "    ).select(pl.col(\"feature_ID\", \"EntrezID\")),\n",
    "}"
   ],
   "outputs": [],
   "execution_count": 11
  },
  {
   "cell_type": "code",
   "id": "abc2a7ff70b64b6e",
   "metadata": {
    "ExecuteTime": {
     "end_time": "2025-04-02T08:39:27.951573Z",
     "start_time": "2025-04-02T08:39:17.711456Z"
    }
   },
   "source": [
    "all_data = []\n",
    "for tissue, assay in products:\n",
    "    print(f\"Processing {tissue} {assay}\")\n",
    "    path = f\"data/{tissue}_{assay}_data.csv\"\n",
    "    if not os.path.exists(path):\n",
    "        print(f\"File {path} does not exist.\")\n",
    "        continue\n",
    "    data = pl.read_csv(path)\n",
    "    annotated_data = data.join(\n",
    "        annotations[assay], left_on=\"feature_ID\", right_on=\"feature_ID\"\n",
    "    )\n",
    "    all_data.append(annotated_data)"
   ],
   "outputs": [
    {
     "name": "stdout",
     "output_type": "stream",
     "text": [
      "Processing BAT ATAC\n",
      "Processing BAT TRNSCRPT\n",
      "Processing BAT METHYL\n",
      "Processing BLOOD ATAC\n",
      "File data/BLOOD_ATAC_data.csv does not exist.\n",
      "Processing BLOOD TRNSCRPT\n",
      "Processing BLOOD METHYL\n",
      "File data/BLOOD_METHYL_data.csv does not exist.\n",
      "Processing LIVER ATAC\n",
      "Processing LIVER TRNSCRPT\n",
      "Processing LIVER METHYL\n",
      "Processing HEART ATAC\n",
      "Processing HEART TRNSCRPT\n",
      "Processing HEART METHYL\n",
      "Processing WAT-SC ATAC\n",
      "Processing WAT-SC TRNSCRPT\n",
      "Processing WAT-SC METHYL\n",
      "Processing SKM-GN ATAC\n",
      "Processing SKM-GN TRNSCRPT\n",
      "Processing SKM-GN METHYL\n",
      "Processing HYPOTH ATAC\n",
      "File data/HYPOTH_ATAC_data.csv does not exist.\n",
      "Processing HYPOTH TRNSCRPT\n",
      "Processing HYPOTH METHYL\n",
      "File data/HYPOTH_METHYL_data.csv does not exist.\n"
     ]
    }
   ],
   "execution_count": 12
  },
  {
   "cell_type": "code",
   "id": "d34f5287ea0f7da0",
   "metadata": {
    "ExecuteTime": {
     "end_time": "2025-04-02T08:39:28.192404Z",
     "start_time": "2025-04-02T08:39:27.955985Z"
    }
   },
   "source": [
    "merged_data = pl.concat(all_data, how=\"diagonal_relaxed\").drop(\"feature\")"
   ],
   "outputs": [],
   "execution_count": 13
  },
  {
   "cell_type": "code",
   "id": "5b414a3782c6c66e",
   "metadata": {
    "ExecuteTime": {
     "end_time": "2025-04-02T08:40:47.951337Z",
     "start_time": "2025-04-02T08:40:47.948270Z"
    }
   },
   "source": "merged_data",
   "outputs": [
    {
     "data": {
      "text/plain": [
       "True"
      ]
     },
     "execution_count": 16,
     "metadata": {},
     "output_type": "execute_result"
    }
   ],
   "execution_count": 16
  },
  {
   "cell_type": "code",
   "execution_count": null,
   "id": "31a21c99317e30c9",
   "metadata": {},
   "outputs": [],
   "source": [
    "merged_data.write_parquet(\"data/merged_data.parquet\")"
   ]
  },
  {
   "cell_type": "code",
   "execution_count": null,
   "id": "4d3dbd5dc59f5fc5",
   "metadata": {
    "ExecuteTime": {
     "start_time": "2025-04-02T08:21:26.536376Z"
    }
   },
   "outputs": [],
   "source": [
    "merged_data.to_pandas().memory_usage(deep=True).sum() / 1e6"
   ]
  },
  {
   "cell_type": "code",
   "execution_count": null,
   "id": "50291167c92700e9",
   "metadata": {},
   "outputs": [],
   "source": []
  }
 ],
 "metadata": {
  "kernelspec": {
   "display_name": "Python 3 (ipykernel)",
   "language": "python",
   "name": "python3"
  },
  "language_info": {
   "codemirror_mode": {
    "name": "ipython",
    "version": 3
   },
   "file_extension": ".py",
   "mimetype": "text/x-python",
   "name": "python",
   "nbconvert_exporter": "python",
   "pygments_lexer": "ipython3",
   "version": "3.12.3"
  }
 },
 "nbformat": 4,
 "nbformat_minor": 5
}
