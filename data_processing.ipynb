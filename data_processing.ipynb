{
 "cells": [
  {
   "cell_type": "code",
   "execution_count": 70,
   "id": "2b906bf225e99174",
   "metadata": {
    "ExecuteTime": {
     "end_time": "2025-04-02T15:08:47.985579Z",
     "start_time": "2025-04-02T15:08:38.942592Z"
    }
   },
   "outputs": [],
   "source": [
    "from itertools import product\n",
    "import polars as pl\n",
    "import pandas as pd"
   ]
  },
  {
   "cell_type": "code",
   "execution_count": null,
   "id": "b05f7e633ec5bb52",
   "metadata": {},
   "outputs": [],
   "source": [
    "tissues = [\"BAT\", \"BLOOD\", \"LIVER\", \"HEART\", \"WAT-SC\", \"SKM-GN\", \"HYPOTH\"]\n",
    "assays = [\"ATAC\", \"TRNSCRPT\", \"METHYL\"]\n",
    "\n",
    "products = list(product(tissues, assays))"
   ]
  },
  {
   "cell_type": "code",
   "execution_count": null,
   "id": "c3bc3e4ba452e7e0",
   "metadata": {},
   "outputs": [],
   "source": [
    "genomic_data = (\n",
    "    pl.read_csv(\"data/TRAINING_REGULATED_NORM_DATA.csv\", null_values=[\"NA\"])\n",
    "    .filter(pl.col(\"assay\").is_in(assays))\n",
    "    .drop(\"dataset\")\n",
    ")\n",
    "feature_to_gene = pl.read_csv(\"data/FEATURE_TO_GENE.csv\", null_values=[\"NA\"])"
   ]
  },
  {
   "cell_type": "code",
   "execution_count": 75,
   "id": "32e59c8e64a28fa6",
   "metadata": {
    "ExecuteTime": {
     "end_time": "2025-04-02T15:16:02.410366Z",
     "start_time": "2025-04-02T15:16:02.296878Z"
    }
   },
   "outputs": [],
   "source": [
    "data: pl.DataFrame = genomic_data.join(\n",
    "    feature_to_gene.select(pl.col(\"feature_ID\", \"ensembl_gene\")),\n",
    "    on=\"feature_ID\",\n",
    "    how=\"left\",\n",
    ").drop(pl.selectors.by_index(0))"
   ]
  },
  {
   "cell_type": "code",
   "execution_count": 96,
   "id": "7a8c20fb85004ce9",
   "metadata": {
    "ExecuteTime": {
     "end_time": "2025-04-02T15:33:25.996559Z",
     "start_time": "2025-04-02T15:33:25.943383Z"
    }
   },
   "outputs": [],
   "source": [
    "grouped_data = (\n",
    "    data.drop(\"tissue\", \"assay\", \"feature_ID\")\n",
    "    .group_by(\"feature\", \"ensembl_gene\")\n",
    "    .mean()\n",
    "    .sort(\"ensembl_gene\")\n",
    "    .drop(\"ensembl_gene\")\n",
    ")\n",
    "\n",
    "grouped_data.write_parquet(\"data/grouped_data.parquet\")"
   ]
  },
  {
   "cell_type": "code",
   "execution_count": null,
   "id": "aeac269b5e04680",
   "metadata": {},
   "outputs": [],
   "source": [
    "grouped_data = pl.read_parquet(\"data/grouped_data.parquet\")"
   ]
  },
  {
   "cell_type": "code",
   "execution_count": 98,
   "id": "271a225896336ad8",
   "metadata": {
    "ExecuteTime": {
     "end_time": "2025-04-02T15:35:49.617465Z",
     "start_time": "2025-04-02T15:35:49.454165Z"
    }
   },
   "outputs": [
    {
     "name": "stderr",
     "output_type": "stream",
     "text": [
      "/var/folders/9n/hn4ksfv50tj5y5b19_rj3wz40000gn/T/ipykernel_11156/882048245.py:2: DtypeWarning: Columns (38,42,43,49,81,82,109,119,129,139,149,159,169,179,189,199,200,202,209,210,212,219,220,222,229,230,232,239,240,242,249,250,252,259,260,262,269,270,272,279,280,282,289,290,292,299,300,302,309,310,312,319,320,322,329,330,332,339,340,342,349,350,352,359,360,362,369,370,372,379,380,382,389,390,392,399,400,402,409,410,412,419,420,422,429,430,432,439,440,442,449,450,452,459,460,462,469,470,472,479,480,482,489,490,492,499,515,516,520,521,523,529,531,550) have mixed types. Specify dtype option on import or set low_memory=False.\n",
      "  pheno = pd.read_csv(\"data/motrpac_pass1b-06_pheno_viallabel_data_merged_v4.0.txt\", sep=\"\\t\")\n"
     ]
    }
   ],
   "source": [
    "# Reading phenotype data\n",
    "pheno = pd.read_csv(\n",
    "    \"data/motrpac_pass1b-06_pheno_viallabel_data_merged_v4.0.txt\", sep=\"\\t\"\n",
    ")"
   ]
  },
  {
   "cell_type": "code",
   "execution_count": null,
   "id": "bb663230b47c9f44",
   "metadata": {},
   "outputs": [],
   "source": [
    "# Sub-setting phenotype data to include necessary columns\n",
    "phenoSubset = pheno[\n",
    "    [\n",
    "        \"pid\",\n",
    "        \"viallabel\",\n",
    "        \"sex\",\n",
    "        \"vo2.max.test.vo2_max_2\",\n",
    "        \"registration.weight\",\n",
    "        \"terminal.weight.bw\",\n",
    "        \"group\",\n",
    "    ]\n",
    "]\n",
    "phenoSubset[\"mass_lost\"] = (\n",
    "        phenoSubset[\"registration.weight\"] - phenoSubset[\"terminal.weight.bw\"]\n",
    ")\n",
    "\n",
    "phenoSubset[\"norm_mass_lost\"] = (\n",
    "        phenoSubset[\"mass_lost\"] / phenoSubset[\"registration.weight\"]\n",
    ")\n",
    "\n",
    "phenoSubset[\"norm_mass_lost\"] = (\n",
    "        phenoSubset[\"mass_lost\"] / phenoSubset[\"registration.weight\"]\n",
    ")"
   ]
  },
  {
   "cell_type": "code",
   "id": "e75e51dda00b87c1",
   "metadata": {
    "ExecuteTime": {
     "end_time": "2025-04-02T15:54:51.210969Z",
     "start_time": "2025-04-02T15:54:51.202220Z"
    }
   },
   "source": [
    "pheno_subset = (\n",
    "    pl.read_csv(\"data/phenoSubset.csv\", schema_overrides={\"pid\": pl.String})\n",
    "    .drop(pl.selectors.by_index(0), \"viallabel\")\n",
    "    .rename({\"vo2.max.test.vo2_max_2\": \"vo2max\"})\n",
    "    .unique()\n",
    ")"
   ],
   "outputs": [],
   "execution_count": 129
  },
  {
   "cell_type": "code",
   "id": "5b8f3e1dc4e11975",
   "metadata": {
    "ExecuteTime": {
     "end_time": "2025-04-02T15:54:53.172860Z",
     "start_time": "2025-04-02T15:54:53.088270Z"
    }
   },
   "source": [
    "feature_engineered_data = grouped_data.select(pl.exclude(\"feature\")).transpose(\n",
    "    include_header=True,\n",
    "    header_name=\"pid\",\n",
    "    column_names=grouped_data.get_column(\"feature\"),\n",
    ")"
   ],
   "outputs": [],
   "execution_count": 130
  },
  {
   "cell_type": "code",
   "id": "b6ea7c0c1b2870a2",
   "metadata": {
    "ExecuteTime": {
     "end_time": "2025-04-02T15:55:00.662879Z",
     "start_time": "2025-04-02T15:55:00.659995Z"
    }
   },
   "source": [
    "pheno_subset"
   ],
   "outputs": [
    {
     "data": {
      "text/plain": [
       "shape: (147, 8)\n",
       "┌──────────┬────────┬────────┬───────────────┬───────────────┬─────────┬───────────┬───────────────┐\n",
       "│ pid      ┆ sex    ┆ vo2max ┆ registration. ┆ terminal.weig ┆ group   ┆ mass_lost ┆ norm_mass_los │\n",
       "│ ---      ┆ ---    ┆ ---    ┆ weight        ┆ ht.bw         ┆ ---     ┆ ---       ┆ t             │\n",
       "│ str      ┆ str    ┆ f64    ┆ ---           ┆ ---           ┆ str     ┆ f64       ┆ ---           │\n",
       "│          ┆        ┆        ┆ f64           ┆ f64           ┆         ┆           ┆ f64           │\n",
       "╞══════════╪════════╪════════╪═══════════════╪═══════════════╪═════════╪═══════════╪═══════════════╡\n",
       "│ 10026940 ┆ male   ┆ 73.37  ┆ 342.6         ┆ 326.5         ┆ 8w      ┆ 16.1      ┆ 0.046994      │\n",
       "│ 10502300 ┆ male   ┆ null   ┆ 351.1         ┆ 399.4         ┆ 2w      ┆ -48.3     ┆ -0.137568     │\n",
       "│ 10046461 ┆ female ┆ 84.06  ┆ 192.3         ┆ 200.3         ┆ 8w      ┆ -8.0      ┆ -0.041602     │\n",
       "│ 10175431 ┆ male   ┆ 69.26  ┆ 313.8         ┆ 308.5         ┆ 4w      ┆ 5.3       ┆ 0.01689       │\n",
       "│ 10026355 ┆ male   ┆ 52.64  ┆ 353.7         ┆ 381.1         ┆ control ┆ -27.4     ┆ -0.077467     │\n",
       "│ …        ┆ …      ┆ …      ┆ …             ┆ …             ┆ …       ┆ …         ┆ …             │\n",
       "│ 10106383 ┆ male   ┆ 67.3   ┆ 292.7         ┆ 301.4         ┆ 4w      ┆ -8.7      ┆ -0.029723     │\n",
       "│ 10027327 ┆ male   ┆ 58.53  ┆ 361.3         ┆ 351.4         ┆ control ┆ 9.9       ┆ 0.027401      │\n",
       "│ 10136967 ┆ male   ┆ 67.39  ┆ 337.1         ┆ 353.9         ┆ 4w      ┆ -16.8     ┆ -0.049837     │\n",
       "│ 10886028 ┆ female ┆ null   ┆ 163.9         ┆ 183.3         ┆ 1w      ┆ -19.4     ┆ -0.118365     │\n",
       "│ 10471596 ┆ male   ┆ null   ┆ 261.3         ┆ 324.9         ┆ 1w      ┆ -63.6     ┆ -0.243398     │\n",
       "└──────────┴────────┴────────┴───────────────┴───────────────┴─────────┴───────────┴───────────────┘"
      ],
      "text/html": [
       "<div><style>\n",
       ".dataframe > thead > tr,\n",
       ".dataframe > tbody > tr {\n",
       "  text-align: right;\n",
       "  white-space: pre-wrap;\n",
       "}\n",
       "</style>\n",
       "<small>shape: (147, 8)</small><table border=\"1\" class=\"dataframe\"><thead><tr><th>pid</th><th>sex</th><th>vo2max</th><th>registration.weight</th><th>terminal.weight.bw</th><th>group</th><th>mass_lost</th><th>norm_mass_lost</th></tr><tr><td>str</td><td>str</td><td>f64</td><td>f64</td><td>f64</td><td>str</td><td>f64</td><td>f64</td></tr></thead><tbody><tr><td>&quot;10026940&quot;</td><td>&quot;male&quot;</td><td>73.37</td><td>342.6</td><td>326.5</td><td>&quot;8w&quot;</td><td>16.1</td><td>0.046994</td></tr><tr><td>&quot;10502300&quot;</td><td>&quot;male&quot;</td><td>null</td><td>351.1</td><td>399.4</td><td>&quot;2w&quot;</td><td>-48.3</td><td>-0.137568</td></tr><tr><td>&quot;10046461&quot;</td><td>&quot;female&quot;</td><td>84.06</td><td>192.3</td><td>200.3</td><td>&quot;8w&quot;</td><td>-8.0</td><td>-0.041602</td></tr><tr><td>&quot;10175431&quot;</td><td>&quot;male&quot;</td><td>69.26</td><td>313.8</td><td>308.5</td><td>&quot;4w&quot;</td><td>5.3</td><td>0.01689</td></tr><tr><td>&quot;10026355&quot;</td><td>&quot;male&quot;</td><td>52.64</td><td>353.7</td><td>381.1</td><td>&quot;control&quot;</td><td>-27.4</td><td>-0.077467</td></tr><tr><td>&hellip;</td><td>&hellip;</td><td>&hellip;</td><td>&hellip;</td><td>&hellip;</td><td>&hellip;</td><td>&hellip;</td><td>&hellip;</td></tr><tr><td>&quot;10106383&quot;</td><td>&quot;male&quot;</td><td>67.3</td><td>292.7</td><td>301.4</td><td>&quot;4w&quot;</td><td>-8.7</td><td>-0.029723</td></tr><tr><td>&quot;10027327&quot;</td><td>&quot;male&quot;</td><td>58.53</td><td>361.3</td><td>351.4</td><td>&quot;control&quot;</td><td>9.9</td><td>0.027401</td></tr><tr><td>&quot;10136967&quot;</td><td>&quot;male&quot;</td><td>67.39</td><td>337.1</td><td>353.9</td><td>&quot;4w&quot;</td><td>-16.8</td><td>-0.049837</td></tr><tr><td>&quot;10886028&quot;</td><td>&quot;female&quot;</td><td>null</td><td>163.9</td><td>183.3</td><td>&quot;1w&quot;</td><td>-19.4</td><td>-0.118365</td></tr><tr><td>&quot;10471596&quot;</td><td>&quot;male&quot;</td><td>null</td><td>261.3</td><td>324.9</td><td>&quot;1w&quot;</td><td>-63.6</td><td>-0.243398</td></tr></tbody></table></div>"
      ]
     },
     "execution_count": 132,
     "metadata": {},
     "output_type": "execute_result"
    }
   ],
   "execution_count": 132
  },
  {
   "cell_type": "code",
   "id": "ef1dc33be2573d5d",
   "metadata": {
    "ExecuteTime": {
     "end_time": "2025-04-02T15:56:36.037841Z",
     "start_time": "2025-04-02T15:56:35.956533Z"
    }
   },
   "source": [
    "vo2max_dataset = feature_engineered_data.join(\n",
    "    pheno_subset.select(pl.col(\"pid\"), pl.col(\"vo2max\")), on=\"pid\"\n",
    ")\n",
    "vo2max_dataset.write_csv(\"data/vo2max_dataset.csv\")"
   ],
   "outputs": [],
   "execution_count": 138
  },
  {
   "cell_type": "code",
   "id": "73de40e4ab80288a",
   "metadata": {
    "ExecuteTime": {
     "end_time": "2025-04-02T15:56:36.842710Z",
     "start_time": "2025-04-02T15:56:36.778064Z"
    }
   },
   "source": [
    "weight_dataset = feature_engineered_data.join(\n",
    "    pheno_subset.select(pl.col(\"pid\"), pl.col(\"norm_mass_lost\")), on=\"pid\"\n",
    ")\n",
    "weight_dataset.write_csv(\"data/weight_dataset.csv\")"
   ],
   "outputs": [],
   "execution_count": 139
  },
  {
   "metadata": {},
   "cell_type": "code",
   "outputs": [],
   "execution_count": null,
   "source": "",
   "id": "89cac0f1f331c860"
  }
 ],
 "metadata": {
  "kernelspec": {
   "display_name": "Python 3 (ipykernel)",
   "language": "python",
   "name": "python3"
  },
  "language_info": {
   "codemirror_mode": {
    "name": "ipython",
    "version": 3
   },
   "file_extension": ".py",
   "mimetype": "text/x-python",
   "name": "python",
   "nbconvert_exporter": "python",
   "pygments_lexer": "ipython3",
   "version": "3.11.0"
  }
 },
 "nbformat": 4,
 "nbformat_minor": 5
}
