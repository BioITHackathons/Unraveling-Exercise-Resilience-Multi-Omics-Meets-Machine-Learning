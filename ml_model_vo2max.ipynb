{
 "cells": [
  {
   "cell_type": "code",
   "execution_count": 137,
   "id": "8e05cd71",
   "metadata": {},
   "outputs": [],
   "source": [
    "import pandas as pd\n",
    "import numpy as np"
   ]
  },
  {
   "cell_type": "code",
   "execution_count": 201,
   "id": "88ffb141",
   "metadata": {},
   "outputs": [],
   "source": [
    "vo2max_data = pd.read_csv(\"data/vo2max_dataset.csv\")"
   ]
  },
  {
   "cell_type": "code",
   "execution_count": 202,
   "id": "12f14b95",
   "metadata": {},
   "outputs": [
    {
     "data": {
      "text/html": [
       "<div>\n",
       "<style scoped>\n",
       "    .dataframe tbody tr th:only-of-type {\n",
       "        vertical-align: middle;\n",
       "    }\n",
       "\n",
       "    .dataframe tbody tr th {\n",
       "        vertical-align: top;\n",
       "    }\n",
       "\n",
       "    .dataframe thead th {\n",
       "        text-align: right;\n",
       "    }\n",
       "</style>\n",
       "<table border=\"1\" class=\"dataframe\">\n",
       "  <thead>\n",
       "    <tr style=\"text-align: right;\">\n",
       "      <th></th>\n",
       "      <th>pid</th>\n",
       "      <th>TRNSCRPT;ADRNL;ENSRNOG00000000008</th>\n",
       "      <th>TRNSCRPT;SKM-VL;ENSRNOG00000000012</th>\n",
       "      <th>TRNSCRPT;ADRNL;ENSRNOG00000000012</th>\n",
       "      <th>TRNSCRPT;BLOOD;ENSRNOG00000000033</th>\n",
       "      <th>TRNSCRPT;SPLEEN;ENSRNOG00000000034</th>\n",
       "      <th>TRNSCRPT;COLON;ENSRNOG00000000034</th>\n",
       "      <th>TRNSCRPT;OVARY;ENSRNOG00000000036</th>\n",
       "      <th>TRNSCRPT;ADRNL;ENSRNOG00000000036</th>\n",
       "      <th>TRNSCRPT;COLON;ENSRNOG00000000036</th>\n",
       "      <th>...</th>\n",
       "      <th>ATAC;LIVER;chr15:93634588-93635092</th>\n",
       "      <th>TRNSCRPT;HEART;ENSRNOG00000062298</th>\n",
       "      <th>TRNSCRPT;HIPPOC;ENSRNOG00000062298</th>\n",
       "      <th>TRNSCRPT;KIDNEY;ENSRNOG00000062298</th>\n",
       "      <th>TRNSCRPT;BLOOD;ENSRNOG00000062298</th>\n",
       "      <th>TRNSCRPT;CORTEX;ENSRNOG00000062298</th>\n",
       "      <th>TRNSCRPT;ADRNL;ENSRNOG00000062306</th>\n",
       "      <th>vo2max</th>\n",
       "      <th>group</th>\n",
       "      <th>sex</th>\n",
       "    </tr>\n",
       "  </thead>\n",
       "  <tbody>\n",
       "    <tr>\n",
       "      <th>0</th>\n",
       "      <td>10502300</td>\n",
       "      <td>-0.59007</td>\n",
       "      <td>3.34911</td>\n",
       "      <td>0.02768</td>\n",
       "      <td>10.61489</td>\n",
       "      <td>4.91776</td>\n",
       "      <td>5.96585</td>\n",
       "      <td>NaN</td>\n",
       "      <td>7.85651</td>\n",
       "      <td>4.42718</td>\n",
       "      <td>...</td>\n",
       "      <td>5.08</td>\n",
       "      <td>7.80660</td>\n",
       "      <td>7.98805</td>\n",
       "      <td>8.22936</td>\n",
       "      <td>9.72547</td>\n",
       "      <td>7.95315</td>\n",
       "      <td>3.70898</td>\n",
       "      <td>NaN</td>\n",
       "      <td>2w</td>\n",
       "      <td>male</td>\n",
       "    </tr>\n",
       "    <tr>\n",
       "      <th>1</th>\n",
       "      <td>10046461</td>\n",
       "      <td>-0.76078</td>\n",
       "      <td>2.56057</td>\n",
       "      <td>-1.56168</td>\n",
       "      <td>11.42502</td>\n",
       "      <td>4.93014</td>\n",
       "      <td>6.20550</td>\n",
       "      <td>8.44338</td>\n",
       "      <td>7.55534</td>\n",
       "      <td>5.41303</td>\n",
       "      <td>...</td>\n",
       "      <td>5.08</td>\n",
       "      <td>7.83103</td>\n",
       "      <td>7.83183</td>\n",
       "      <td>8.53105</td>\n",
       "      <td>10.14496</td>\n",
       "      <td>7.95287</td>\n",
       "      <td>3.39867</td>\n",
       "      <td>84.06</td>\n",
       "      <td>8w</td>\n",
       "      <td>female</td>\n",
       "    </tr>\n",
       "    <tr>\n",
       "      <th>2</th>\n",
       "      <td>10026355</td>\n",
       "      <td>-0.43588</td>\n",
       "      <td>2.41595</td>\n",
       "      <td>-1.27477</td>\n",
       "      <td>10.35532</td>\n",
       "      <td>4.83576</td>\n",
       "      <td>5.99471</td>\n",
       "      <td>NaN</td>\n",
       "      <td>7.33771</td>\n",
       "      <td>5.20841</td>\n",
       "      <td>...</td>\n",
       "      <td>5.08</td>\n",
       "      <td>7.90798</td>\n",
       "      <td>8.02354</td>\n",
       "      <td>8.14800</td>\n",
       "      <td>9.65669</td>\n",
       "      <td>7.93508</td>\n",
       "      <td>3.80897</td>\n",
       "      <td>52.64</td>\n",
       "      <td>control</td>\n",
       "      <td>male</td>\n",
       "    </tr>\n",
       "    <tr>\n",
       "      <th>3</th>\n",
       "      <td>10139044</td>\n",
       "      <td>NaN</td>\n",
       "      <td>NaN</td>\n",
       "      <td>NaN</td>\n",
       "      <td>NaN</td>\n",
       "      <td>NaN</td>\n",
       "      <td>NaN</td>\n",
       "      <td>NaN</td>\n",
       "      <td>NaN</td>\n",
       "      <td>NaN</td>\n",
       "      <td>...</td>\n",
       "      <td>NaN</td>\n",
       "      <td>NaN</td>\n",
       "      <td>NaN</td>\n",
       "      <td>NaN</td>\n",
       "      <td>NaN</td>\n",
       "      <td>NaN</td>\n",
       "      <td>NaN</td>\n",
       "      <td>64.37</td>\n",
       "      <td>4w</td>\n",
       "      <td>male</td>\n",
       "    </tr>\n",
       "    <tr>\n",
       "      <th>4</th>\n",
       "      <td>10417702</td>\n",
       "      <td>NaN</td>\n",
       "      <td>NaN</td>\n",
       "      <td>NaN</td>\n",
       "      <td>NaN</td>\n",
       "      <td>NaN</td>\n",
       "      <td>NaN</td>\n",
       "      <td>NaN</td>\n",
       "      <td>NaN</td>\n",
       "      <td>NaN</td>\n",
       "      <td>...</td>\n",
       "      <td>NaN</td>\n",
       "      <td>NaN</td>\n",
       "      <td>NaN</td>\n",
       "      <td>NaN</td>\n",
       "      <td>NaN</td>\n",
       "      <td>NaN</td>\n",
       "      <td>NaN</td>\n",
       "      <td>NaN</td>\n",
       "      <td>1w</td>\n",
       "      <td>male</td>\n",
       "    </tr>\n",
       "    <tr>\n",
       "      <th>...</th>\n",
       "      <td>...</td>\n",
       "      <td>...</td>\n",
       "      <td>...</td>\n",
       "      <td>...</td>\n",
       "      <td>...</td>\n",
       "      <td>...</td>\n",
       "      <td>...</td>\n",
       "      <td>...</td>\n",
       "      <td>...</td>\n",
       "      <td>...</td>\n",
       "      <td>...</td>\n",
       "      <td>...</td>\n",
       "      <td>...</td>\n",
       "      <td>...</td>\n",
       "      <td>...</td>\n",
       "      <td>...</td>\n",
       "      <td>...</td>\n",
       "      <td>...</td>\n",
       "      <td>...</td>\n",
       "      <td>...</td>\n",
       "      <td>...</td>\n",
       "    </tr>\n",
       "    <tr>\n",
       "      <th>66</th>\n",
       "      <td>10381414</td>\n",
       "      <td>-1.50401</td>\n",
       "      <td>3.20343</td>\n",
       "      <td>-0.47941</td>\n",
       "      <td>10.49174</td>\n",
       "      <td>4.87997</td>\n",
       "      <td>5.77650</td>\n",
       "      <td>9.31307</td>\n",
       "      <td>7.46678</td>\n",
       "      <td>4.85469</td>\n",
       "      <td>...</td>\n",
       "      <td>5.00</td>\n",
       "      <td>7.89467</td>\n",
       "      <td>8.07592</td>\n",
       "      <td>8.47443</td>\n",
       "      <td>9.49881</td>\n",
       "      <td>7.92551</td>\n",
       "      <td>3.18561</td>\n",
       "      <td>71.92</td>\n",
       "      <td>4w</td>\n",
       "      <td>female</td>\n",
       "    </tr>\n",
       "    <tr>\n",
       "      <th>67</th>\n",
       "      <td>10950486</td>\n",
       "      <td>-1.67123</td>\n",
       "      <td>3.00107</td>\n",
       "      <td>-0.24669</td>\n",
       "      <td>10.93355</td>\n",
       "      <td>4.85299</td>\n",
       "      <td>6.25547</td>\n",
       "      <td>8.35527</td>\n",
       "      <td>7.59105</td>\n",
       "      <td>4.56407</td>\n",
       "      <td>...</td>\n",
       "      <td>4.99</td>\n",
       "      <td>7.88587</td>\n",
       "      <td>7.85276</td>\n",
       "      <td>8.54627</td>\n",
       "      <td>9.72736</td>\n",
       "      <td>7.72874</td>\n",
       "      <td>3.07414</td>\n",
       "      <td>NaN</td>\n",
       "      <td>1w</td>\n",
       "      <td>female</td>\n",
       "    </tr>\n",
       "    <tr>\n",
       "      <th>68</th>\n",
       "      <td>10046380</td>\n",
       "      <td>1.28560</td>\n",
       "      <td>2.85838</td>\n",
       "      <td>3.03771</td>\n",
       "      <td>10.59316</td>\n",
       "      <td>4.96145</td>\n",
       "      <td>6.04798</td>\n",
       "      <td>8.62297</td>\n",
       "      <td>6.92961</td>\n",
       "      <td>4.90772</td>\n",
       "      <td>...</td>\n",
       "      <td>5.05</td>\n",
       "      <td>7.91631</td>\n",
       "      <td>7.86505</td>\n",
       "      <td>8.38762</td>\n",
       "      <td>9.55499</td>\n",
       "      <td>7.89062</td>\n",
       "      <td>3.50661</td>\n",
       "      <td>61.43</td>\n",
       "      <td>control</td>\n",
       "      <td>female</td>\n",
       "    </tr>\n",
       "    <tr>\n",
       "      <th>69</th>\n",
       "      <td>10106383</td>\n",
       "      <td>-1.40085</td>\n",
       "      <td>3.17792</td>\n",
       "      <td>0.06307</td>\n",
       "      <td>10.64148</td>\n",
       "      <td>4.88907</td>\n",
       "      <td>6.06547</td>\n",
       "      <td>NaN</td>\n",
       "      <td>7.14024</td>\n",
       "      <td>5.05786</td>\n",
       "      <td>...</td>\n",
       "      <td>5.26</td>\n",
       "      <td>7.82569</td>\n",
       "      <td>7.88266</td>\n",
       "      <td>8.38536</td>\n",
       "      <td>10.26058</td>\n",
       "      <td>7.80084</td>\n",
       "      <td>4.02136</td>\n",
       "      <td>67.30</td>\n",
       "      <td>4w</td>\n",
       "      <td>male</td>\n",
       "    </tr>\n",
       "    <tr>\n",
       "      <th>70</th>\n",
       "      <td>10027327</td>\n",
       "      <td>-0.73870</td>\n",
       "      <td>3.33676</td>\n",
       "      <td>-0.96029</td>\n",
       "      <td>10.32644</td>\n",
       "      <td>4.92402</td>\n",
       "      <td>6.43662</td>\n",
       "      <td>NaN</td>\n",
       "      <td>8.10485</td>\n",
       "      <td>5.00103</td>\n",
       "      <td>...</td>\n",
       "      <td>5.20</td>\n",
       "      <td>7.93414</td>\n",
       "      <td>7.97611</td>\n",
       "      <td>8.25875</td>\n",
       "      <td>9.73794</td>\n",
       "      <td>7.80153</td>\n",
       "      <td>3.93402</td>\n",
       "      <td>58.53</td>\n",
       "      <td>control</td>\n",
       "      <td>male</td>\n",
       "    </tr>\n",
       "  </tbody>\n",
       "</table>\n",
       "<p>71 rows × 22684 columns</p>\n",
       "</div>"
      ],
      "text/plain": [
       "         pid  TRNSCRPT;ADRNL;ENSRNOG00000000008  \\\n",
       "0   10502300                           -0.59007   \n",
       "1   10046461                           -0.76078   \n",
       "2   10026355                           -0.43588   \n",
       "3   10139044                                NaN   \n",
       "4   10417702                                NaN   \n",
       "..       ...                                ...   \n",
       "66  10381414                           -1.50401   \n",
       "67  10950486                           -1.67123   \n",
       "68  10046380                            1.28560   \n",
       "69  10106383                           -1.40085   \n",
       "70  10027327                           -0.73870   \n",
       "\n",
       "    TRNSCRPT;SKM-VL;ENSRNOG00000000012  TRNSCRPT;ADRNL;ENSRNOG00000000012  \\\n",
       "0                              3.34911                            0.02768   \n",
       "1                              2.56057                           -1.56168   \n",
       "2                              2.41595                           -1.27477   \n",
       "3                                  NaN                                NaN   \n",
       "4                                  NaN                                NaN   \n",
       "..                                 ...                                ...   \n",
       "66                             3.20343                           -0.47941   \n",
       "67                             3.00107                           -0.24669   \n",
       "68                             2.85838                            3.03771   \n",
       "69                             3.17792                            0.06307   \n",
       "70                             3.33676                           -0.96029   \n",
       "\n",
       "    TRNSCRPT;BLOOD;ENSRNOG00000000033  TRNSCRPT;SPLEEN;ENSRNOG00000000034  \\\n",
       "0                            10.61489                             4.91776   \n",
       "1                            11.42502                             4.93014   \n",
       "2                            10.35532                             4.83576   \n",
       "3                                 NaN                                 NaN   \n",
       "4                                 NaN                                 NaN   \n",
       "..                                ...                                 ...   \n",
       "66                           10.49174                             4.87997   \n",
       "67                           10.93355                             4.85299   \n",
       "68                           10.59316                             4.96145   \n",
       "69                           10.64148                             4.88907   \n",
       "70                           10.32644                             4.92402   \n",
       "\n",
       "    TRNSCRPT;COLON;ENSRNOG00000000034  TRNSCRPT;OVARY;ENSRNOG00000000036  \\\n",
       "0                             5.96585                                NaN   \n",
       "1                             6.20550                            8.44338   \n",
       "2                             5.99471                                NaN   \n",
       "3                                 NaN                                NaN   \n",
       "4                                 NaN                                NaN   \n",
       "..                                ...                                ...   \n",
       "66                            5.77650                            9.31307   \n",
       "67                            6.25547                            8.35527   \n",
       "68                            6.04798                            8.62297   \n",
       "69                            6.06547                                NaN   \n",
       "70                            6.43662                                NaN   \n",
       "\n",
       "    TRNSCRPT;ADRNL;ENSRNOG00000000036  TRNSCRPT;COLON;ENSRNOG00000000036  ...  \\\n",
       "0                             7.85651                            4.42718  ...   \n",
       "1                             7.55534                            5.41303  ...   \n",
       "2                             7.33771                            5.20841  ...   \n",
       "3                                 NaN                                NaN  ...   \n",
       "4                                 NaN                                NaN  ...   \n",
       "..                                ...                                ...  ...   \n",
       "66                            7.46678                            4.85469  ...   \n",
       "67                            7.59105                            4.56407  ...   \n",
       "68                            6.92961                            4.90772  ...   \n",
       "69                            7.14024                            5.05786  ...   \n",
       "70                            8.10485                            5.00103  ...   \n",
       "\n",
       "    ATAC;LIVER;chr15:93634588-93635092  TRNSCRPT;HEART;ENSRNOG00000062298  \\\n",
       "0                                 5.08                            7.80660   \n",
       "1                                 5.08                            7.83103   \n",
       "2                                 5.08                            7.90798   \n",
       "3                                  NaN                                NaN   \n",
       "4                                  NaN                                NaN   \n",
       "..                                 ...                                ...   \n",
       "66                                5.00                            7.89467   \n",
       "67                                4.99                            7.88587   \n",
       "68                                5.05                            7.91631   \n",
       "69                                5.26                            7.82569   \n",
       "70                                5.20                            7.93414   \n",
       "\n",
       "    TRNSCRPT;HIPPOC;ENSRNOG00000062298  TRNSCRPT;KIDNEY;ENSRNOG00000062298  \\\n",
       "0                              7.98805                             8.22936   \n",
       "1                              7.83183                             8.53105   \n",
       "2                              8.02354                             8.14800   \n",
       "3                                  NaN                                 NaN   \n",
       "4                                  NaN                                 NaN   \n",
       "..                                 ...                                 ...   \n",
       "66                             8.07592                             8.47443   \n",
       "67                             7.85276                             8.54627   \n",
       "68                             7.86505                             8.38762   \n",
       "69                             7.88266                             8.38536   \n",
       "70                             7.97611                             8.25875   \n",
       "\n",
       "    TRNSCRPT;BLOOD;ENSRNOG00000062298  TRNSCRPT;CORTEX;ENSRNOG00000062298  \\\n",
       "0                             9.72547                             7.95315   \n",
       "1                            10.14496                             7.95287   \n",
       "2                             9.65669                             7.93508   \n",
       "3                                 NaN                                 NaN   \n",
       "4                                 NaN                                 NaN   \n",
       "..                                ...                                 ...   \n",
       "66                            9.49881                             7.92551   \n",
       "67                            9.72736                             7.72874   \n",
       "68                            9.55499                             7.89062   \n",
       "69                           10.26058                             7.80084   \n",
       "70                            9.73794                             7.80153   \n",
       "\n",
       "    TRNSCRPT;ADRNL;ENSRNOG00000062306  vo2max    group     sex  \n",
       "0                             3.70898     NaN       2w    male  \n",
       "1                             3.39867   84.06       8w  female  \n",
       "2                             3.80897   52.64  control    male  \n",
       "3                                 NaN   64.37       4w    male  \n",
       "4                                 NaN     NaN       1w    male  \n",
       "..                                ...     ...      ...     ...  \n",
       "66                            3.18561   71.92       4w  female  \n",
       "67                            3.07414     NaN       1w  female  \n",
       "68                            3.50661   61.43  control  female  \n",
       "69                            4.02136   67.30       4w    male  \n",
       "70                            3.93402   58.53  control    male  \n",
       "\n",
       "[71 rows x 22684 columns]"
      ]
     },
     "execution_count": 202,
     "metadata": {},
     "output_type": "execute_result"
    }
   ],
   "source": [
    "vo2max_data"
   ]
  },
  {
   "cell_type": "markdown",
   "id": "4a7fbc42",
   "metadata": {},
   "source": [
    "## ML Model\n",
    "Using ensembl method of gradient boosting trees."
   ]
  },
  {
   "cell_type": "code",
   "execution_count": 203,
   "id": "7e9bf758",
   "metadata": {},
   "outputs": [],
   "source": [
    "from sklearn.ensemble import GradientBoostingRegressor\n",
    "from sklearn.model_selection import train_test_split\n",
    "from sklearn.metrics import accuracy_score, classification_report\n",
    "from sklearn.metrics import mean_squared_error, mean_absolute_error, r2_score"
   ]
  },
  {
   "cell_type": "code",
   "execution_count": 218,
   "id": "903c46f2",
   "metadata": {},
   "outputs": [],
   "source": [
    "X = vo2max_data.iloc[:,1:len(vo2max_data.columns)-3]\n",
    "y = vo2max_data.iloc[:,len(vo2max_data.columns)-3]\n",
    "stratify = vo2max_data[[\"group\", \"sex\"]]"
   ]
  },
  {
   "cell_type": "code",
   "execution_count": null,
   "id": "6c608e66",
   "metadata": {},
   "outputs": [],
   "source": []
  },
  {
   "cell_type": "code",
   "execution_count": 221,
   "id": "7f31310d",
   "metadata": {},
   "outputs": [],
   "source": [
    "# dropping vo2 max instances with nas\n",
    "y = y.dropna(axis=0)\n",
    "y.reset_index(drop=True, inplace=True)"
   ]
  },
  {
   "cell_type": "code",
   "execution_count": 222,
   "id": "ae0bd3b7",
   "metadata": {},
   "outputs": [],
   "source": [
    "# mean imputation of data\n",
    "X_imputed = X.fillna(X.mean())"
   ]
  },
  {
   "cell_type": "code",
   "execution_count": 223,
   "id": "9dfc17f3",
   "metadata": {},
   "outputs": [],
   "source": [
    "indices_to_keep = y.index\n",
    "\n",
    "X_imputed = X_imputed.iloc[indices_to_keep, :]\n",
    "X_imputed.reset_index(drop=True, inplace=True)"
   ]
  },
  {
   "cell_type": "code",
   "execution_count": 224,
   "id": "ba0c9c72",
   "metadata": {},
   "outputs": [],
   "source": [
    "stratify = stratify.iloc[indices_to_keep]\n",
    "stratify.reset_index(drop=True, inplace=True)"
   ]
  },
  {
   "cell_type": "code",
   "execution_count": 225,
   "id": "49755a1a",
   "metadata": {},
   "outputs": [],
   "source": [
    "X_train, X_test, y_train, y_test = train_test_split(X_imputed, y, test_size=0.20, random_state=42, stratify=stratify)"
   ]
  },
  {
   "cell_type": "code",
   "execution_count": 226,
   "id": "8a2ea006",
   "metadata": {},
   "outputs": [
    {
     "name": "stdout",
     "output_type": "stream",
     "text": [
      "(36, 22680)\n",
      "(36,)\n",
      "(10, 22680)\n",
      "(10,)\n"
     ]
    }
   ],
   "source": [
    "print(X_train.shape)\n",
    "print(y_train.shape)\n",
    "print(X_test.shape)\n",
    "print(y_test.shape)"
   ]
  },
  {
   "cell_type": "code",
   "execution_count": 227,
   "id": "1328ac0a",
   "metadata": {},
   "outputs": [],
   "source": [
    "gbr = GradientBoostingRegressor()"
   ]
  },
  {
   "cell_type": "code",
   "execution_count": 228,
   "id": "20d8d15f",
   "metadata": {},
   "outputs": [
    {
     "data": {
      "text/html": [
       "<style>#sk-container-id-5 {color: black;background-color: white;}#sk-container-id-5 pre{padding: 0;}#sk-container-id-5 div.sk-toggleable {background-color: white;}#sk-container-id-5 label.sk-toggleable__label {cursor: pointer;display: block;width: 100%;margin-bottom: 0;padding: 0.3em;box-sizing: border-box;text-align: center;}#sk-container-id-5 label.sk-toggleable__label-arrow:before {content: \"▸\";float: left;margin-right: 0.25em;color: #696969;}#sk-container-id-5 label.sk-toggleable__label-arrow:hover:before {color: black;}#sk-container-id-5 div.sk-estimator:hover label.sk-toggleable__label-arrow:before {color: black;}#sk-container-id-5 div.sk-toggleable__content {max-height: 0;max-width: 0;overflow: hidden;text-align: left;background-color: #f0f8ff;}#sk-container-id-5 div.sk-toggleable__content pre {margin: 0.2em;color: black;border-radius: 0.25em;background-color: #f0f8ff;}#sk-container-id-5 input.sk-toggleable__control:checked~div.sk-toggleable__content {max-height: 200px;max-width: 100%;overflow: auto;}#sk-container-id-5 input.sk-toggleable__control:checked~label.sk-toggleable__label-arrow:before {content: \"▾\";}#sk-container-id-5 div.sk-estimator input.sk-toggleable__control:checked~label.sk-toggleable__label {background-color: #d4ebff;}#sk-container-id-5 div.sk-label input.sk-toggleable__control:checked~label.sk-toggleable__label {background-color: #d4ebff;}#sk-container-id-5 input.sk-hidden--visually {border: 0;clip: rect(1px 1px 1px 1px);clip: rect(1px, 1px, 1px, 1px);height: 1px;margin: -1px;overflow: hidden;padding: 0;position: absolute;width: 1px;}#sk-container-id-5 div.sk-estimator {font-family: monospace;background-color: #f0f8ff;border: 1px dotted black;border-radius: 0.25em;box-sizing: border-box;margin-bottom: 0.5em;}#sk-container-id-5 div.sk-estimator:hover {background-color: #d4ebff;}#sk-container-id-5 div.sk-parallel-item::after {content: \"\";width: 100%;border-bottom: 1px solid gray;flex-grow: 1;}#sk-container-id-5 div.sk-label:hover label.sk-toggleable__label {background-color: #d4ebff;}#sk-container-id-5 div.sk-serial::before {content: \"\";position: absolute;border-left: 1px solid gray;box-sizing: border-box;top: 0;bottom: 0;left: 50%;z-index: 0;}#sk-container-id-5 div.sk-serial {display: flex;flex-direction: column;align-items: center;background-color: white;padding-right: 0.2em;padding-left: 0.2em;position: relative;}#sk-container-id-5 div.sk-item {position: relative;z-index: 1;}#sk-container-id-5 div.sk-parallel {display: flex;align-items: stretch;justify-content: center;background-color: white;position: relative;}#sk-container-id-5 div.sk-item::before, #sk-container-id-5 div.sk-parallel-item::before {content: \"\";position: absolute;border-left: 1px solid gray;box-sizing: border-box;top: 0;bottom: 0;left: 50%;z-index: -1;}#sk-container-id-5 div.sk-parallel-item {display: flex;flex-direction: column;z-index: 1;position: relative;background-color: white;}#sk-container-id-5 div.sk-parallel-item:first-child::after {align-self: flex-end;width: 50%;}#sk-container-id-5 div.sk-parallel-item:last-child::after {align-self: flex-start;width: 50%;}#sk-container-id-5 div.sk-parallel-item:only-child::after {width: 0;}#sk-container-id-5 div.sk-dashed-wrapped {border: 1px dashed gray;margin: 0 0.4em 0.5em 0.4em;box-sizing: border-box;padding-bottom: 0.4em;background-color: white;}#sk-container-id-5 div.sk-label label {font-family: monospace;font-weight: bold;display: inline-block;line-height: 1.2em;}#sk-container-id-5 div.sk-label-container {text-align: center;}#sk-container-id-5 div.sk-container {/* jupyter's `normalize.less` sets `[hidden] { display: none; }` but bootstrap.min.css set `[hidden] { display: none !important; }` so we also need the `!important` here to be able to override the default hidden behavior on the sphinx rendered scikit-learn.org. See: https://github.com/scikit-learn/scikit-learn/issues/21755 */display: inline-block !important;position: relative;}#sk-container-id-5 div.sk-text-repr-fallback {display: none;}</style><div id=\"sk-container-id-5\" class=\"sk-top-container\"><div class=\"sk-text-repr-fallback\"><pre>GradientBoostingRegressor()</pre><b>In a Jupyter environment, please rerun this cell to show the HTML representation or trust the notebook. <br />On GitHub, the HTML representation is unable to render, please try loading this page with nbviewer.org.</b></div><div class=\"sk-container\" hidden><div class=\"sk-item\"><div class=\"sk-estimator sk-toggleable\"><input class=\"sk-toggleable__control sk-hidden--visually\" id=\"sk-estimator-id-5\" type=\"checkbox\" checked><label for=\"sk-estimator-id-5\" class=\"sk-toggleable__label sk-toggleable__label-arrow\">GradientBoostingRegressor</label><div class=\"sk-toggleable__content\"><pre>GradientBoostingRegressor()</pre></div></div></div></div></div>"
      ],
      "text/plain": [
       "GradientBoostingRegressor()"
      ]
     },
     "execution_count": 228,
     "metadata": {},
     "output_type": "execute_result"
    }
   ],
   "source": [
    "gbr.fit(X_train, y_train)"
   ]
  },
  {
   "cell_type": "code",
   "execution_count": 229,
   "id": "d2c6d53f",
   "metadata": {},
   "outputs": [
    {
     "data": {
      "text/plain": [
       "-0.38995168004481706"
      ]
     },
     "execution_count": 229,
     "metadata": {},
     "output_type": "execute_result"
    }
   ],
   "source": [
    "gbr.score(X_test, y_test)"
   ]
  },
  {
   "cell_type": "code",
   "execution_count": 230,
   "id": "4498118a",
   "metadata": {},
   "outputs": [
    {
     "data": {
      "text/plain": [
       "array([73.64995299, 77.17881884, 73.64995299, 73.64995299, 64.16812318,\n",
       "       65.12030729, 61.98566812, 74.33708355, 73.64995299, 63.38336611])"
      ]
     },
     "execution_count": 230,
     "metadata": {},
     "output_type": "execute_result"
    }
   ],
   "source": [
    "# Predict on the test set\n",
    "y_pred = gbr.predict(X_test)\n",
    "y_pred"
   ]
  },
  {
   "cell_type": "code",
   "execution_count": 231,
   "id": "5eef9626",
   "metadata": {},
   "outputs": [],
   "source": [
    "import matplotlib.pyplot as plt"
   ]
  },
  {
   "cell_type": "code",
   "execution_count": 232,
   "id": "09036aa4",
   "metadata": {},
   "outputs": [
    {
     "data": {
      "image/png": "[encoded data removed]",
      "text/plain": [
       "<Figure size 600x600 with 1 Axes>"
      ]
     },
     "metadata": {},
     "output_type": "display_data"
    }
   ],
   "source": [
    "plt.figure(figsize=(6, 6))\n",
    "plt.scatter(y_test, y_pred, alpha=0.6)\n",
    "plt.plot([y_test.min(), y_test.max()], [y_test.min(), y_test.max()], 'r--')\n",
    "plt.xlabel(\"Actual\")\n",
    "plt.ylabel(\"Predicted\")\n",
    "plt.title(\"Actual vs Predicted Values\")\n",
    "plt.grid(True)\n",
    "plt.tight_layout()\n",
    "plt.show()"
   ]
  },
  {
   "cell_type": "markdown",
   "id": "df6accc0",
   "metadata": {},
   "source": [
    "## PLS feature selection"
   ]
  },
  {
   "cell_type": "code",
   "execution_count": 233,
   "id": "8e27ec64",
   "metadata": {},
   "outputs": [],
   "source": [
    "from sklearn.cross_decomposition import PLSRegression\n",
    "from sklearn.preprocessing import StandardScaler"
   ]
  },
  {
   "cell_type": "code",
   "execution_count": 234,
   "id": "bb25a55b",
   "metadata": {},
   "outputs": [
    {
     "data": {
      "text/html": [
       "<style>#sk-container-id-6 {color: black;background-color: white;}#sk-container-id-6 pre{padding: 0;}#sk-container-id-6 div.sk-toggleable {background-color: white;}#sk-container-id-6 label.sk-toggleable__label {cursor: pointer;display: block;width: 100%;margin-bottom: 0;padding: 0.3em;box-sizing: border-box;text-align: center;}#sk-container-id-6 label.sk-toggleable__label-arrow:before {content: \"▸\";float: left;margin-right: 0.25em;color: #696969;}#sk-container-id-6 label.sk-toggleable__label-arrow:hover:before {color: black;}#sk-container-id-6 div.sk-estimator:hover label.sk-toggleable__label-arrow:before {color: black;}#sk-container-id-6 div.sk-toggleable__content {max-height: 0;max-width: 0;overflow: hidden;text-align: left;background-color: #f0f8ff;}#sk-container-id-6 div.sk-toggleable__content pre {margin: 0.2em;color: black;border-radius: 0.25em;background-color: #f0f8ff;}#sk-container-id-6 input.sk-toggleable__control:checked~div.sk-toggleable__content {max-height: 200px;max-width: 100%;overflow: auto;}#sk-container-id-6 input.sk-toggleable__control:checked~label.sk-toggleable__label-arrow:before {content: \"▾\";}#sk-container-id-6 div.sk-estimator input.sk-toggleable__control:checked~label.sk-toggleable__label {background-color: #d4ebff;}#sk-container-id-6 div.sk-label input.sk-toggleable__control:checked~label.sk-toggleable__label {background-color: #d4ebff;}#sk-container-id-6 input.sk-hidden--visually {border: 0;clip: rect(1px 1px 1px 1px);clip: rect(1px, 1px, 1px, 1px);height: 1px;margin: -1px;overflow: hidden;padding: 0;position: absolute;width: 1px;}#sk-container-id-6 div.sk-estimator {font-family: monospace;background-color: #f0f8ff;border: 1px dotted black;border-radius: 0.25em;box-sizing: border-box;margin-bottom: 0.5em;}#sk-container-id-6 div.sk-estimator:hover {background-color: #d4ebff;}#sk-container-id-6 div.sk-parallel-item::after {content: \"\";width: 100%;border-bottom: 1px solid gray;flex-grow: 1;}#sk-container-id-6 div.sk-label:hover label.sk-toggleable__label {background-color: #d4ebff;}#sk-container-id-6 div.sk-serial::before {content: \"\";position: absolute;border-left: 1px solid gray;box-sizing: border-box;top: 0;bottom: 0;left: 50%;z-index: 0;}#sk-container-id-6 div.sk-serial {display: flex;flex-direction: column;align-items: center;background-color: white;padding-right: 0.2em;padding-left: 0.2em;position: relative;}#sk-container-id-6 div.sk-item {position: relative;z-index: 1;}#sk-container-id-6 div.sk-parallel {display: flex;align-items: stretch;justify-content: center;background-color: white;position: relative;}#sk-container-id-6 div.sk-item::before, #sk-container-id-6 div.sk-parallel-item::before {content: \"\";position: absolute;border-left: 1px solid gray;box-sizing: border-box;top: 0;bottom: 0;left: 50%;z-index: -1;}#sk-container-id-6 div.sk-parallel-item {display: flex;flex-direction: column;z-index: 1;position: relative;background-color: white;}#sk-container-id-6 div.sk-parallel-item:first-child::after {align-self: flex-end;width: 50%;}#sk-container-id-6 div.sk-parallel-item:last-child::after {align-self: flex-start;width: 50%;}#sk-container-id-6 div.sk-parallel-item:only-child::after {width: 0;}#sk-container-id-6 div.sk-dashed-wrapped {border: 1px dashed gray;margin: 0 0.4em 0.5em 0.4em;box-sizing: border-box;padding-bottom: 0.4em;background-color: white;}#sk-container-id-6 div.sk-label label {font-family: monospace;font-weight: bold;display: inline-block;line-height: 1.2em;}#sk-container-id-6 div.sk-label-container {text-align: center;}#sk-container-id-6 div.sk-container {/* jupyter's `normalize.less` sets `[hidden] { display: none; }` but bootstrap.min.css set `[hidden] { display: none !important; }` so we also need the `!important` here to be able to override the default hidden behavior on the sphinx rendered scikit-learn.org. See: https://github.com/scikit-learn/scikit-learn/issues/21755 */display: inline-block !important;position: relative;}#sk-container-id-6 div.sk-text-repr-fallback {display: none;}</style><div id=\"sk-container-id-6\" class=\"sk-top-container\"><div class=\"sk-text-repr-fallback\"><pre>PLSRegression()</pre><b>In a Jupyter environment, please rerun this cell to show the HTML representation or trust the notebook. <br />On GitHub, the HTML representation is unable to render, please try loading this page with nbviewer.org.</b></div><div class=\"sk-container\" hidden><div class=\"sk-item\"><div class=\"sk-estimator sk-toggleable\"><input class=\"sk-toggleable__control sk-hidden--visually\" id=\"sk-estimator-id-6\" type=\"checkbox\" checked><label for=\"sk-estimator-id-6\" class=\"sk-toggleable__label sk-toggleable__label-arrow\">PLSRegression</label><div class=\"sk-toggleable__content\"><pre>PLSRegression()</pre></div></div></div></div></div>"
      ],
      "text/plain": [
       "PLSRegression()"
      ]
     },
     "execution_count": 234,
     "metadata": {},
     "output_type": "execute_result"
    }
   ],
   "source": [
    "# Scale features\n",
    "scaler = StandardScaler()\n",
    "X_scaled = scaler.fit_transform(X_imputed)\n",
    "\n",
    "# Fit PLS\n",
    "pls = PLSRegression(n_components=2)\n",
    "pls.fit(X_scaled, y)"
   ]
  },
  {
   "cell_type": "code",
   "execution_count": 235,
   "id": "debf150c",
   "metadata": {},
   "outputs": [],
   "source": [
    "# Get absolute sum of weights across components\n",
    "feature_importance = np.abs(pls.x_weights_).sum(axis=1)\n",
    "\n",
    "# Create a dataframe for easier viewing\n",
    "feature_names = X_imputed.columns if hasattr(X_imputed, \"columns\") else [f\"X{i}\" for i in range(X_imputed.shape[1])]\n",
    "importance_df = pd.DataFrame({\n",
    "    \"Feature\": feature_names,\n",
    "    \"Importance\": feature_importance\n",
    "}).sort_values(by=\"Importance\", ascending=False)"
   ]
  },
  {
   "cell_type": "code",
   "execution_count": 236,
   "id": "ec356835",
   "metadata": {},
   "outputs": [],
   "source": [
    "top_features_5 = importance_df.head(5)[\"Feature\"].tolist()\n",
    "top_features_10 = importance_df.head(10)[\"Feature\"].tolist()\n",
    "top_features_100 = importance_df.head(100)[\"Feature\"].tolist()\n",
    "top_features_1000 = importance_df.head(1000)[\"Feature\"].tolist()\n",
    "\n",
    "# Now you can subset your data\n",
    "X_top_10 = X_imputed[top_features_10]\n",
    "X_top_10_train, X_top_10_test, y_top_10_train, y_top_10_test = train_test_split(X_top_10, y, test_size=0.20, random_state=42, stratify=stratify)"
   ]
  },
  {
   "cell_type": "code",
   "execution_count": 237,
   "id": "c4c302e1",
   "metadata": {},
   "outputs": [
    {
     "data": {
      "text/plain": [
       "Index(['METHYL;BAT;chr1-449942_cluster4', 'METHYL;BAT;chr19-38808_cluster4',\n",
       "       'METHYL;WAT-SC;chr3-220638_cluster2',\n",
       "       'TRNSCRPT;SKM-GN;ENSRNOG00000048270',\n",
       "       'TRNSCRPT;BLOOD;ENSRNOG00000007370',\n",
       "       'TRNSCRPT;LIVER;ENSRNOG00000048402',\n",
       "       'ATAC;LIVER;chr16:54500934-54501155',\n",
       "       'TRNSCRPT;ADRNL;ENSRNOG00000030580',\n",
       "       'METHYL;WAT-SC;chr6-193036_cluster2',\n",
       "       'ATAC;LIVER;chr14:100039365-100040215'],\n",
       "      dtype='object')"
      ]
     },
     "execution_count": 237,
     "metadata": {},
     "output_type": "execute_result"
    }
   ],
   "source": [
    "X_top_10_test.columns"
   ]
  },
  {
   "cell_type": "code",
   "execution_count": 238,
   "id": "7fcbe41c",
   "metadata": {},
   "outputs": [
    {
     "data": {
      "text/plain": [
       "Index(['METHYL;BAT;chr1-449942_cluster4', 'METHYL;BAT;chr19-38808_cluster4',\n",
       "       'METHYL;WAT-SC;chr3-220638_cluster2',\n",
       "       'TRNSCRPT;SKM-GN;ENSRNOG00000048270',\n",
       "       'TRNSCRPT;BLOOD;ENSRNOG00000007370',\n",
       "       'TRNSCRPT;LIVER;ENSRNOG00000048402',\n",
       "       'ATAC;LIVER;chr16:54500934-54501155',\n",
       "       'TRNSCRPT;ADRNL;ENSRNOG00000030580',\n",
       "       'METHYL;WAT-SC;chr6-193036_cluster2',\n",
       "       'ATAC;LIVER;chr14:100039365-100040215'],\n",
       "      dtype='object')"
      ]
     },
     "execution_count": 238,
     "metadata": {},
     "output_type": "execute_result"
    }
   ],
   "source": [
    "X_top_10_train.columns"
   ]
  },
  {
   "cell_type": "code",
   "execution_count": 239,
   "id": "dd173fa1",
   "metadata": {},
   "outputs": [
    {
     "data": {
      "text/plain": [
       "0.22866468298492337"
      ]
     },
     "execution_count": 239,
     "metadata": {},
     "output_type": "execute_result"
    }
   ],
   "source": [
    "gbr10 = GradientBoostingRegressor()\n",
    "gbr10.fit(X_top_10_train, y_top_10_train)\n",
    "gbr10.score(X_top_10_test, y_top_10_test)"
   ]
  },
  {
   "cell_type": "code",
   "execution_count": 252,
   "id": "09eaf382",
   "metadata": {},
   "outputs": [
    {
     "name": "stdout",
     "output_type": "stream",
     "text": [
      "The mean squared error using top 10 features is 48.48144830884026\n"
     ]
    }
   ],
   "source": [
    "# mse\n",
    "y_pred_top10 = gbr10.predict(X_top_10_test)\n",
    "\n",
    "mse10 = mean_squared_error(y_top_10_test, y_pred_top10)\n",
    "print(f\"The mean squared error using top 10 features is {mse10\")"
   ]
  },
  {
   "cell_type": "code",
   "execution_count": 259,
   "id": "1b4c3df3",
   "metadata": {},
   "outputs": [
    {
     "data": {
      "image/png": "[encoded data removed]",
      "text/plain": [
       "<Figure size 600x600 with 1 Axes>"
      ]
     },
     "metadata": {},
     "output_type": "display_data"
    }
   ],
   "source": [
    "# Predict on the test set\n",
    "y_pred_top_10 = gbr10.predict(X_top_10_test)\n",
    "\n",
    "plt.figure(figsize=(6, 6))\n",
    "plt.scatter(y_top_10_test, y_pred_top_10, color=\"blue\")\n",
    "plt.plot([y_top_10_test.min(), y_top_10_test.max()], [y_top_10_test.min(), y_top_10_test.max()], 'r')\n",
    "plt.xlabel(\"Actual\")\n",
    "plt.ylabel(\"Predicted\")\n",
    "plt.title(\"Actual vs Predicted Values\")\n",
    "plt.grid(True)\n",
    "plt.tight_layout()\n",
    "plt.show()"
   ]
  },
  {
   "cell_type": "code",
   "execution_count": 241,
   "id": "e6126487",
   "metadata": {},
   "outputs": [],
   "source": [
    "# Now you can subset your data\n",
    "X_top_100 = X_imputed[top_features_100]\n",
    "X_top_100_train, X_top_100_test, y_top_100_train, y_top_100_test = train_test_split(X_top_100, y, test_size=0.20, random_state=42, stratify=stratify)"
   ]
  },
  {
   "cell_type": "code",
   "execution_count": 242,
   "id": "388080bf",
   "metadata": {},
   "outputs": [
    {
     "data": {
      "text/plain": [
       "0.20004838561153226"
      ]
     },
     "execution_count": 242,
     "metadata": {},
     "output_type": "execute_result"
    }
   ],
   "source": [
    "gbr100 = GradientBoostingRegressor()\n",
    "gbr100.fit(X_top_100_train, y_top_100_train)\n",
    "gbr100.score(X_top_100_test, y_top_100_test)"
   ]
  },
  {
   "cell_type": "code",
   "execution_count": 258,
   "id": "53f55643",
   "metadata": {},
   "outputs": [
    {
     "data": {
      "image/png": "[encoded data removed]",
      "text/plain": [
       "<Figure size 600x600 with 1 Axes>"
      ]
     },
     "metadata": {},
     "output_type": "display_data"
    }
   ],
   "source": [
    "# Predict on the test set\n",
    "y_pred_top_100 = gbr100.predict(X_top_100_test)\n",
    "\n",
    "plt.figure(figsize=(6, 6))\n",
    "plt.scatter(y_top_100_test, y_pred_top_100, color=\"blue\")\n",
    "plt.plot([y_top_100_test.min(), y_top_100_test.max()], [y_top_100_test.min(), y_top_100_test.max()], 'r')\n",
    "plt.xlabel(\"Actual\")\n",
    "plt.ylabel(\"Predicted\")\n",
    "plt.title(\"Actual vs Predicted Values\")\n",
    "plt.grid(True)\n",
    "plt.tight_layout()"
   ]
  },
  {
   "cell_type": "code",
   "execution_count": 244,
   "id": "e568ab8d",
   "metadata": {},
   "outputs": [],
   "source": [
    "# Now you can subset your data\n",
    "X_top_1000 = X_imputed[top_features_1000]\n",
    "X_top_1000_train, X_top_1000_test, y_top_1000_train, y_top_1000_test = train_test_split(X_top_1000, y, test_size=0.20, random_state=42, stratify=stratify)"
   ]
  },
  {
   "cell_type": "code",
   "execution_count": 245,
   "id": "05862a5b",
   "metadata": {},
   "outputs": [
    {
     "data": {
      "text/plain": [
       "-0.3446239256551473"
      ]
     },
     "execution_count": 245,
     "metadata": {},
     "output_type": "execute_result"
    }
   ],
   "source": [
    "gbr1000 = GradientBoostingRegressor()\n",
    "gbr1000.fit(X_top_1000_train, y_top_1000_train)\n",
    "gbr1000.score(X_top_1000_test, y_top_1000_test)"
   ]
  },
  {
   "cell_type": "code",
   "execution_count": 246,
   "id": "99dce03a",
   "metadata": {},
   "outputs": [],
   "source": [
    "# Now you can subset your data\n",
    "X_top_5 = X_imputed[top_features_5]\n",
    "X_top_5_train, X_top_5_test, y_top_5_train, y_top_5_test = train_test_split(X_top_5, y, test_size=0.20, random_state=42, stratify=stratify)"
   ]
  },
  {
   "cell_type": "code",
   "execution_count": 247,
   "id": "0f45c050",
   "metadata": {},
   "outputs": [
    {
     "data": {
      "text/plain": [
       "0.11774692685219379"
      ]
     },
     "execution_count": 247,
     "metadata": {},
     "output_type": "execute_result"
    }
   ],
   "source": [
    "gbr5 = GradientBoostingRegressor()\n",
    "gbr5.fit(X_top_5_train, y_top_5_train)\n",
    "gbr5.score(X_top_5_test, y_top_5_test)"
   ]
  }
 ],
 "metadata": {
  "kernelspec": {
   "display_name": "Python 3 (ipykernel)",
   "language": "python",
   "name": "python3"
  },
  "language_info": {
   "codemirror_mode": {
    "name": "ipython",
    "version": 3
   },
   "file_extension": ".py",
   "mimetype": "text/x-python",
   "name": "python",
   "nbconvert_exporter": "python",
   "pygments_lexer": "ipython3",
   "version": "3.11.0"
  }
 },
 "nbformat": 4,
 "nbformat_minor": 5
}
